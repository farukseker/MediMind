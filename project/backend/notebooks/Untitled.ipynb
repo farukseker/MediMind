{
 "cells": [
  {
   "cell_type": "code",
   "execution_count": 4,
   "id": "29addf87-560b-459e-aee2-38c0ac36d309",
   "metadata": {},
   "outputs": [],
   "source": [
    "import time\n",
    "import requests\n",
    "\n",
    "\n",
    "class AutoJWTClient:\n",
    "    def __init__(self, base_url, login_url, email, password):\n",
    "        self.base_url = base_url.rstrip(\"/\")\n",
    "        self.login_url = login_url\n",
    "        self.email = email\n",
    "        self.password = password\n",
    "        self.access_token = None\n",
    "        self.refresh_token = None\n",
    "        self.token_expiry = 0  # epoch time\n",
    "\n",
    "        self.session = requests.Session()\n",
    "        self._login()\n",
    "\n",
    "    def _login(self):\n",
    "        response = self.session.post(\n",
    "            f\"{self.base_url}{self.login_url}\",\n",
    "            json={\"email\": self.email, \"password\": self.password}\n",
    "        )\n",
    "        if response.status_code != 200:\n",
    "            raise Exception(\"Login failed\")\n",
    "\n",
    "        data = response.json()\n",
    "        self.access_token = data[\"access\"]\n",
    "        self.refresh_token = data.get(\"refresh\")\n",
    "        self.token_expiry = self._decode_expiry(self.access_token)\n",
    "\n",
    "    def _decode_expiry(self, token):\n",
    "        import base64\n",
    "        import json\n",
    "\n",
    "        try:\n",
    "            payload = token.split('.')[1]\n",
    "            padding = '=' * (-len(payload) % 4)\n",
    "            decoded = base64.urlsafe_b64decode(payload + padding)\n",
    "            exp = json.loads(decoded)[\"exp\"]\n",
    "            return exp\n",
    "        except Exception:\n",
    "            return 0\n",
    "\n",
    "    def _refresh_token_if_needed(self):\n",
    "        now = time.time()\n",
    "        if now >= self.token_expiry - 10:  # 10s buffer\n",
    "            if not self.refresh_token:\n",
    "                self._login()\n",
    "            else:\n",
    "                response = self.session.post(\n",
    "                    f\"{self.base_url}/api/token/refresh/\",\n",
    "                    json={\"refresh\": self.refresh_token}\n",
    "                )\n",
    "                if response.status_code != 200:\n",
    "                    self._login()\n",
    "                else:\n",
    "                    data = response.json()\n",
    "                    self.access_token = data[\"access\"]\n",
    "                    self.token_expiry = self._decode_expiry(self.access_token)\n",
    "\n",
    "    def request(self, method, path, **kwargs):\n",
    "        self._refresh_token_if_needed()\n",
    "\n",
    "        headers = kwargs.pop(\"headers\", {})\n",
    "        headers[\"Authorization\"] = f\"Bearer {self.access_token}\"\n",
    "        kwargs[\"headers\"] = headers\n",
    "\n",
    "        url = f\"{self.base_url}{path}\"\n",
    "        return self.session.request(method, url, **kwargs)\n",
    "\n",
    "    def get(self, path, **kwargs):\n",
    "        return self.request(\"GET\", path, **kwargs)\n",
    "\n",
    "    def post(self, path, **kwargs):\n",
    "        return self.request(\"POST\", path, **kwargs)\n",
    "\n",
    "    def put(self, path, **kwargs):\n",
    "        return self.request(\"PUT\", path, **kwargs)\n",
    "\n",
    "    def delete(self, path, **kwargs):\n",
    "        return self.request(\"DELETE\", path, **kwargs)\n"
   ]
  },
  {
   "cell_type": "code",
   "execution_count": 9,
   "id": "16294dc3-44cc-4dd9-a82c-49ea76c27bbf",
   "metadata": {},
   "outputs": [],
   "source": [
    "client = AutoJWTClient(\n",
    "    base_url=\"http://192.168.123.97:8000/api\",\n",
    "    login_url=\"/auth/token/\",\n",
    "    email=\"f4rukseker@gmail.com\",\n",
    "    password=\"pars\"\n",
    ")"
   ]
  },
  {
   "cell_type": "code",
   "execution_count": 35,
   "id": "8f12028a-57d5-4eca-a972-457c7e5ff63b",
   "metadata": {},
   "outputs": [],
   "source": [
    "from pprint import pprint"
   ]
  },
  {
   "cell_type": "markdown",
   "id": "b08a04dc-fe9d-4f45-adb8-46d746718f50",
   "metadata": {},
   "source": [
    "## ilaçları görüntülemek için"
   ]
  },
  {
   "cell_type": "code",
   "execution_count": 43,
   "id": "5ff44278-353c-4e6f-84be-d9c92081fb86",
   "metadata": {},
   "outputs": [],
   "source": [
    "response = client.get('/medication/medications/')"
   ]
  },
  {
   "cell_type": "code",
   "execution_count": 44,
   "id": "895839d6-c732-48cf-a79c-85ad1129f820",
   "metadata": {},
   "outputs": [
    {
     "name": "stdout",
     "output_type": "stream",
     "text": [
      "[{'default_dose_amount': '1.00',\n",
      "  'default_dose_unit': 'mg',\n",
      "  'id': 1,\n",
      "  'is_active': True,\n",
      "  'name': 'salofalk',\n",
      "  'schedules': [{'created_at': '2025-05-13T18:59:04.331789',\n",
      "                 'day_of_month': None,\n",
      "                 'days_of_week': [1, 2, 3, 4, 5, 6, 7],\n",
      "                 'dose_amount': '2.00',\n",
      "                 'dose_unit': 'mg',\n",
      "                 'doses_per_period': 3,\n",
      "                 'end_date': '2025-05-20',\n",
      "                 'frequency': 'daily',\n",
      "                 'id': 1,\n",
      "                 'interval': 2,\n",
      "                 'medication': 1,\n",
      "                 'start_date': '2025-05-13',\n",
      "                 'updated_at': '2025-05-13T18:59:04.331789'}]},\n",
      " {'default_dose_amount': '12.00',\n",
      "  'default_dose_unit': 'mg',\n",
      "  'id': 2,\n",
      "  'is_active': True,\n",
      "  'name': 'Şeker',\n",
      "  'schedules': []}]\n"
     ]
    }
   ],
   "source": [
    "pprint(response.json())"
   ]
  },
  {
   "cell_type": "markdown",
   "id": "bf866cf3-334f-48d0-9415-7d62e48a4c16",
   "metadata": {},
   "source": [
    "## Spesifik bir ilacı görüntülemek için"
   ]
  },
  {
   "cell_type": "code",
   "execution_count": 50,
   "id": "71e40a23-9eca-4822-b191-52b671cede31",
   "metadata": {},
   "outputs": [
    {
     "data": {
      "text/plain": [
       "'{\"id\":1,\"name\":\"salofalk\",\"is_active\":true,\"default_dose_amount\":\"1.00\",\"default_dose_unit\":\"mg\",\"schedules\":[{\"id\":1,\"start_date\":\"2025-05-13\",\"end_date\":\"2025-05-20\",\"frequency\":\"daily\",\"interval\":2,\"day_of_month\":null,\"doses_per_period\":3,\"dose_amount\":\"2.00\",\"dose_unit\":\"mg\",\"created_at\":\"2025-05-13T18:59:04.331789+03:00\",\"updated_at\":\"2025-05-13T18:59:04.331789+03:00\",\"medication\":1,\"days_of_week\":[1,2,3,4,5,6,7]}]}'"
      ]
     },
     "execution_count": 50,
     "metadata": {},
     "output_type": "execute_result"
    }
   ],
   "source": [
    "medication_id: int = 1\n",
    "response = client.get(f'/medication/medications/{medication_id}/')\n",
    "response.text"
   ]
  },
  {
   "cell_type": "markdown",
   "id": "6077d211-a0e9-4cae-9833-f5f809e44986",
   "metadata": {},
   "source": [
    "## planlama"
   ]
  },
  {
   "cell_type": "code",
   "execution_count": 51,
   "id": "efc03fd9-3a2b-413c-a64c-e7e9ca955f7c",
   "metadata": {},
   "outputs": [
    {
     "data": {
      "text/plain": [
       "'[{\"id\":1,\"start_date\":\"2025-05-13\",\"end_date\":\"2025-05-20\",\"frequency\":\"daily\",\"interval\":2,\"day_of_month\":null,\"doses_per_period\":3,\"dose_amount\":\"2.00\",\"dose_unit\":\"mg\",\"created_at\":\"2025-05-13T18:59:04.331789+03:00\",\"updated_at\":\"2025-05-13T18:59:04.331789+03:00\",\"medication\":1,\"days_of_week\":[1,2,3,4,5,6,7]}]'"
      ]
     },
     "execution_count": 51,
     "metadata": {},
     "output_type": "execute_result"
    }
   ],
   "source": [
    "response = client.get('/medication/medication-schedules')\n",
    "response.text"
   ]
  },
  {
   "cell_type": "markdown",
   "id": "d3a0fcf3-2d5c-4ddd-a4c5-b03ec07430f4",
   "metadata": {},
   "source": [
    "## Bugün hangi ilaçları alıcak"
   ]
  },
  {
   "cell_type": "code",
   "execution_count": 56,
   "id": "d270b61a-bf07-4290-a418-d4854912e546",
   "metadata": {
    "scrolled": true
   },
   "outputs": [
    {
     "data": {
      "text/plain": [
       "'[{\"medication_name\":\"salofalk\",\"dose\":2.0,\"unit\":\"mg\",\"schedules_id\":1}]'"
      ]
     },
     "execution_count": 56,
     "metadata": {},
     "output_type": "execute_result"
    }
   ],
   "source": [
    "\n",
    "response = client.get('/medication/today')\n",
    "response.text"
   ]
  },
  {
   "cell_type": "code",
   "execution_count": null,
   "id": "c55f28ad-3ad3-4eda-9936-4162deb688aa",
   "metadata": {},
   "outputs": [],
   "source": []
  },
  {
   "cell_type": "code",
   "execution_count": null,
   "id": "0deacf7a-5b04-4380-b848-2763e75b88c8",
   "metadata": {},
   "outputs": [],
   "source": []
  }
 ],
 "metadata": {
  "kernelspec": {
   "display_name": "Python 3 (ipykernel)",
   "language": "python",
   "name": "python3"
  },
  "language_info": {
   "codemirror_mode": {
    "name": "ipython",
    "version": 3
   },
   "file_extension": ".py",
   "mimetype": "text/x-python",
   "name": "python",
   "nbconvert_exporter": "python",
   "pygments_lexer": "ipython3",
   "version": "3.12.5"
  }
 },
 "nbformat": 4,
 "nbformat_minor": 5
}
