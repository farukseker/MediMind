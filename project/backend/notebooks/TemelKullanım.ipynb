{
 "cells": [
  {
   "cell_type": "markdown",
   "id": "05f3268c-5110-4385-b87e-35725f277dff",
   "metadata": {},
   "source": [
    "# Apı kulanım örnekleri"
   ]
  },
  {
   "cell_type": "code",
   "execution_count": 56,
   "id": "29addf87-560b-459e-aee2-38c0ac36d309",
   "metadata": {},
   "outputs": [],
   "source": [
    "from api_client import AutoJWTClient"
   ]
  },
  {
   "cell_type": "code",
   "execution_count": 57,
   "id": "16294dc3-44cc-4dd9-a82c-49ea76c27bbf",
   "metadata": {},
   "outputs": [],
   "source": [
    "client = AutoJWTClient(\n",
    "    base_url=\"http://192.168.123.97:1000/api\",\n",
    "    login_url=\"/auth/token/\",\n",
    "    email=\"f4rukseker@gmail.com\",\n",
    "    password=\"pars\"\n",
    ")"
   ]
  },
  {
   "cell_type": "code",
   "execution_count": 58,
   "id": "8f12028a-57d5-4eca-a972-457c7e5ff63b",
   "metadata": {},
   "outputs": [],
   "source": [
    "from pprint import pprint"
   ]
  },
  {
   "cell_type": "markdown",
   "id": "b08a04dc-fe9d-4f45-adb8-46d746718f50",
   "metadata": {},
   "source": [
    "## ilaçları görüntülemek için"
   ]
  },
  {
   "cell_type": "code",
   "execution_count": 54,
   "id": "5ff44278-353c-4e6f-84be-d9c92081fb86",
   "metadata": {},
   "outputs": [],
   "source": [
    "response = client.get('/medication/medications/')"
   ]
  },
  {
   "cell_type": "code",
   "execution_count": 55,
   "id": "895839d6-c732-48cf-a79c-85ad1129f820",
   "metadata": {
    "scrolled": true
   },
   "outputs": [
    {
     "name": "stdout",
     "output_type": "stream",
     "text": [
      "[{'default_dose_amount': '2.00',\n",
      "  'default_dose_unit': 'mililitre',\n",
      "  'id': 1,\n",
      "  'is_active': True,\n",
      "  'name': 'salofalk',\n",
      "  'schedules': []},\n",
      " {'default_dose_amount': '2.00',\n",
      "  'default_dose_unit': 'mililitre',\n",
      "  'id': 2,\n",
      "  'is_active': True,\n",
      "  'name': 'salofalk',\n",
      "  'schedules': []},\n",
      " {'default_dose_amount': '2.00',\n",
      "  'default_dose_unit': 'mililitre',\n",
      "  'id': 3,\n",
      "  'is_active': True,\n",
      "  'name': 'salofalk',\n",
      "  'schedules': [{'created_at': '2025-05-16T17:28:59.656088+03:00',\n",
      "                 'day_of_month': 0,\n",
      "                 'days_of_week': [0, 1, 2, 3, 4, 5, 6],\n",
      "                 'dose_amount': '2.00',\n",
      "                 'dose_unit': 'mg',\n",
      "                 'doses_per_period': 3,\n",
      "                 'end_date': '2025-05-13',\n",
      "                 'frequency': 'daily',\n",
      "                 'id': 1,\n",
      "                 'interval': 1,\n",
      "                 'medication': 3,\n",
      "                 'start_date': '2025-04-12',\n",
      "                 'updated_at': '2025-05-16T17:28:59.656088+03:00'}]},\n",
      " {'default_dose_amount': '2.00',\n",
      "  'default_dose_unit': 'mililitre',\n",
      "  'id': 4,\n",
      "  'is_active': True,\n",
      "  'name': 'salofalk',\n",
      "  'schedules': [{'created_at': '2025-05-16T17:32:58.174780+03:00',\n",
      "                 'day_of_month': 0,\n",
      "                 'days_of_week': [0, 1, 2, 3, 4, 5, 6],\n",
      "                 'dose_amount': '2.00',\n",
      "                 'dose_unit': 'mg',\n",
      "                 'doses_per_period': 3,\n",
      "                 'end_date': '2025-05-18',\n",
      "                 'frequency': 'daily',\n",
      "                 'id': 2,\n",
      "                 'interval': 1,\n",
      "                 'medication': 4,\n",
      "                 'start_date': '2025-04-12',\n",
      "                 'updated_at': '2025-05-16T17:48:55.156255+03:00'}]},\n",
      " {'default_dose_amount': '2.00',\n",
      "  'default_dose_unit': 'mililitre',\n",
      "  'id': 5,\n",
      "  'is_active': True,\n",
      "  'name': 'pars',\n",
      "  'schedules': [{'created_at': '2025-05-16T17:35:45.469163+03:00',\n",
      "                 'day_of_month': 0,\n",
      "                 'days_of_week': [0, 1, 2, 3, 4, 5, 6],\n",
      "                 'dose_amount': '2.00',\n",
      "                 'dose_unit': 'mg',\n",
      "                 'doses_per_period': 3,\n",
      "                 'end_date': '2025-05-13',\n",
      "                 'frequency': 'daily',\n",
      "                 'id': 3,\n",
      "                 'interval': 1,\n",
      "                 'medication': 5,\n",
      "                 'start_date': '2025-04-12',\n",
      "                 'updated_at': '2025-05-16T17:35:45.469163+03:00'}]}]\n"
     ]
    }
   ],
   "source": [
    "pprint(response.json())"
   ]
  },
  {
   "cell_type": "markdown",
   "id": "bf866cf3-334f-48d0-9415-7d62e48a4c16",
   "metadata": {},
   "source": [
    "## Spesifik bir ilacı görüntülemek için"
   ]
  },
  {
   "cell_type": "code",
   "execution_count": 12,
   "id": "71e40a23-9eca-4822-b191-52b671cede31",
   "metadata": {},
   "outputs": [
    {
     "data": {
      "text/plain": [
       "'{\"id\":1,\"name\":\"salofalk\",\"is_active\":true,\"default_dose_amount\":\"1.00\",\"default_dose_unit\":\"mg\",\"schedules\":[{\"id\":1,\"start_date\":\"2025-05-13\",\"end_date\":\"2025-05-20\",\"frequency\":\"daily\",\"interval\":2,\"day_of_month\":null,\"doses_per_period\":3,\"dose_amount\":\"2.00\",\"dose_unit\":\"mg\",\"created_at\":\"2025-05-13T18:59:04.331789+03:00\",\"updated_at\":\"2025-05-13T18:59:04.331789+03:00\",\"medication\":1,\"days_of_week\":[1,2,3,4,5,6,7]}]}'"
      ]
     },
     "execution_count": 12,
     "metadata": {},
     "output_type": "execute_result"
    }
   ],
   "source": [
    "medication_id: int = 1\n",
    "response = client.get(f'/medication/medications/{medication_id}/')\n",
    "response.text"
   ]
  },
  {
   "cell_type": "markdown",
   "id": "6077d211-a0e9-4cae-9833-f5f809e44986",
   "metadata": {},
   "source": [
    "## planlama"
   ]
  },
  {
   "cell_type": "code",
   "execution_count": 30,
   "id": "efc03fd9-3a2b-413c-a64c-e7e9ca955f7c",
   "metadata": {},
   "outputs": [
    {
     "data": {
      "text/plain": [
       "'[{\"start_date\":\"2025-04-12\",\"end_date\":\"2025-05-13\",\"frequency\":\"daily\",\"interval\":1,\"days_of_week\":[0,1,2,3,4,5,6],\"day_of_month\":0,\"doses_per_period\":3,\"dose_amount\":\"2.00\",\"dose_unit\":\"mg\"},{\"start_date\":\"2025-04-12\",\"end_date\":\"2025-05-13\",\"frequency\":\"daily\",\"interval\":1,\"days_of_week\":[0,1,2,3,4,5,6],\"day_of_month\":0,\"doses_per_period\":3,\"dose_amount\":\"2.00\",\"dose_unit\":\"mg\"},{\"start_date\":\"2025-04-12\",\"end_date\":\"2025-05-13\",\"frequency\":\"daily\",\"interval\":1,\"days_of_week\":[0,1,2,3,4,5,6],\"day_of_month\":0,\"doses_per_period\":3,\"dose_amount\":\"2.00\",\"dose_unit\":\"mg\"}]'"
      ]
     },
     "execution_count": 30,
     "metadata": {},
     "output_type": "execute_result"
    }
   ],
   "source": [
    "response = client.get('/medication/medication-schedules')\n",
    "response.text"
   ]
  },
  {
   "cell_type": "markdown",
   "id": "d3a0fcf3-2d5c-4ddd-a4c5-b03ec07430f4",
   "metadata": {},
   "source": [
    "## Bugün hangi ilaçları alıcak"
   ]
  },
  {
   "cell_type": "code",
   "execution_count": 40,
   "id": "d270b61a-bf07-4290-a418-d4854912e546",
   "metadata": {
    "scrolled": true
   },
   "outputs": [
    {
     "name": "stdout",
     "output_type": "stream",
     "text": [
      "[{'dose': 12.0,\n",
      "  'dose_time_id': 7,\n",
      "  'medication_id': 4,\n",
      "  'medication_name': 'salofalk',\n",
      "  'schedule_id': 2,\n",
      "  'time': '10:30',\n",
      "  'unit': 'mg'},\n",
      " {'dose': 12.0,\n",
      "  'dose_time_id': 8,\n",
      "  'medication_id': 4,\n",
      "  'medication_name': 'salofalk',\n",
      "  'schedule_id': 2,\n",
      "  'time': '10:40',\n",
      "  'unit': 'mg'}]\n"
     ]
    }
   ],
   "source": [
    "response = client.get('/medication/today/')\n",
    "try:\n",
    "    pprint(response.json())\n",
    "except:\n",
    "    print(response.text)"
   ]
  },
  {
   "cell_type": "code",
   "execution_count": 81,
   "id": "c55f28ad-3ad3-4eda-9936-4162deb688aa",
   "metadata": {},
   "outputs": [],
   "source": [
    "## Ilaç Almak"
   ]
  },
  {
   "cell_type": "code",
   "execution_count": 68,
   "id": "0deacf7a-5b04-4380-b848-2763e75b88c8",
   "metadata": {
    "scrolled": true
   },
   "outputs": [
    {
     "data": {
      "text/plain": [
       "'{\"medication\":[\"Invalid pk \\\\\"5\\\\\" - object does not exist.\"],\"dose_time\":[\"Invalid pk \\\\\"2\\\\\" - object does not exist.\"]}'"
      ]
     },
     "execution_count": 68,
     "metadata": {},
     "output_type": "execute_result"
    }
   ],
   "source": [
    "response = client.post('/medication/medication-logs/create/', data={\n",
    "    \"medication\": 5,\n",
    "    \"dose\": 1,\n",
    "    \"taken_status\": 'pass',\n",
    "    \"dose_time\": 2\n",
    "})\n",
    "response.text\n"
   ]
  },
  {
   "cell_type": "code",
   "execution_count": 108,
   "id": "509c445f-f580-4674-935a-9956eee49b69",
   "metadata": {
    "scrolled": true
   },
   "outputs": [
    {
     "name": "stdout",
     "output_type": "stream",
     "text": [
      "[{'date': '2025-05-14',\n",
      "  'dose_taken': None,\n",
      "  'dose_time': 2,\n",
      "  'dose_unit': '',\n",
      "  'id': 61,\n",
      "  'medication': 1,\n",
      "  'medication_name': 'salofalk',\n",
      "  'notes': '',\n",
      "  'taken_status': 'taken',\n",
      "  'taken_time': None,\n",
      "  'time': '20:33:56.564201',\n",
      "  'user': 1}]\n"
     ]
    }
   ],
   "source": [
    "response = client.get('/medication/medication-logs/?date=today')\n",
    "pprint(response.json())"
   ]
  },
  {
   "cell_type": "code",
   "execution_count": 106,
   "id": "0c293e4d-d4f9-4f69-8891-afe4d0672b27",
   "metadata": {},
   "outputs": [
    {
     "name": "stdout",
     "output_type": "stream",
     "text": [
      "[{'date': '2025-05-14',\n",
      "  'dose_taken': None,\n",
      "  'dose_time': 2,\n",
      "  'dose_unit': '',\n",
      "  'id': 30,\n",
      "  'medication': 1,\n",
      "  'medication_name': 'salofalk',\n",
      "  'notes': '',\n",
      "  'taken_status': 'taken',\n",
      "  'taken_time': None,\n",
      "  'time': '19:32:22.126696',\n",
      "  'user': 1},\n",
      " {'date': '2025-05-14',\n",
      "  'dose_taken': None,\n",
      "  'dose_time': 1,\n",
      "  'dose_unit': '',\n",
      "  'id': 29,\n",
      "  'medication': 1,\n",
      "  'medication_name': 'salofalk',\n",
      "  'notes': '',\n",
      "  'taken_status': 'taken',\n",
      "  'taken_time': None,\n",
      "  'time': '19:32:20.953690',\n",
      "  'user': 1},\n",
      " {'date': '2025-05-13',\n",
      "  'dose_taken': '12.00',\n",
      "  'dose_time': 2,\n",
      "  'dose_unit': 'mg',\n",
      "  'id': 31,\n",
      "  'medication': 1,\n",
      "  'medication_name': 'salofalk',\n",
      "  'notes': '',\n",
      "  'taken_status': 'taken',\n",
      "  'taken_time': '19:41:28',\n",
      "  'time': '19:41:27',\n",
      "  'user': 1}]\n"
     ]
    }
   ],
   "source": [
    "\n",
    "response = client.get('/medication/medication-logs/?date=month')\n",
    "pprint(response.json())"
   ]
  },
  {
   "cell_type": "code",
   "execution_count": 9,
   "id": "926afcfc-e458-495e-8fc0-1cca98255597",
   "metadata": {},
   "outputs": [
    {
     "name": "stdout",
     "output_type": "stream",
     "text": [
      "400\n",
      "('{\"start_date\":[\"This field is required.\"],\"medication\":[\"This field is '\n",
      " 'required.\"]}')\n"
     ]
    }
   ],
   "source": []
  },
  {
   "cell_type": "markdown",
   "id": "64b00710-20f0-4c8f-82a5-580d84ed3a53",
   "metadata": {},
   "source": [
    "## İlaç kaydı oluşturma"
   ]
  },
  {
   "cell_type": "code",
   "execution_count": 10,
   "id": "3fd18e8d-55f7-40fb-898f-a16cddf43851",
   "metadata": {},
   "outputs": [
    {
     "name": "stdout",
     "output_type": "stream",
     "text": [
      "400\n",
      "('{\"start_date\":[\"This field is required.\"],\"medication\":[\"This field is '\n",
      " 'required.\"]}')\n"
     ]
    }
   ],
   "source": [
    "response = client.post('/medication/medication-schedules/')\n",
    "pprint(response.status_code)\n",
    "pprint(response.text)"
   ]
  },
  {
   "cell_type": "code",
   "execution_count": 61,
   "id": "a9c18192-ff2a-4478-a061-c37c99a632f5",
   "metadata": {
    "scrolled": true
   },
   "outputs": [
    {
     "name": "stdout",
     "output_type": "stream",
     "text": [
      "201\n",
      "'{\"id\":7,\"name\":\"pars\",\"is_active\":true,\"default_dose_amount\":\"2.00\",\"default_dose_unit\":\"mililitre\",\"schedules\":[{\"start_date\":\"2025-04-12\",\"end_date\":\"2025-05-13\",\"frequency\":\"daily\",\"interval\":1,\"days_of_week\":[0,1,2,3,4,5,6],\"day_of_month\":0,\"doses_per_period\":3,\"dose_amount\":\"2.00\",\"dose_unit\":\"mg\"}],\"dose_times\":[{\"time\":\"10:30:00\",\"dose_amount\":12.0,\"dose_unit\":\"mg\"},{\"time\":\"10:40:00\",\"dose_amount\":12.0,\"dose_unit\":\"mg\"}]}'\n"
     ]
    }
   ],
   "source": [
    "response = client.post('/medication/medications/create/', json={\n",
    "    \"id\": 1,\n",
    "    \"name\": \"pars\",\n",
    "        \"dose_times\": [\n",
    "        {\"time\":\"10:30\", \"dose_amount\":12, \"dose_unit\": \"mg\"},\n",
    "        {\"time\":\"10:40\", \"dose_amount\":12, \"dose_unit\": \"mg\"},\n",
    "    ],\n",
    "    \"is_active\": True,\n",
    "    \"default_dose_amount\": \"1.00\",\n",
    "    \"default_dose_unit\": \"mg\",\n",
    "    \"days_of_week\": [0,1,2,3,4,5,6],\n",
    "    \"schedules\": [\n",
    "            {\n",
    "                \"start_date\": \"2025-04-12\",\n",
    "                \"end_date\": \"2025-05-13\",\n",
    "                \"frequency\": \"daily\",\n",
    "                \"interval\": 1,\n",
    "                \"day_of_month\": 0,\n",
    "                \"doses_per_period\": 3,\n",
    "                \"dose_amount\": \"2.00\",\n",
    "                \"dose_unit\": \"mg\",\n",
    "                \"days_of_week\": [\n",
    "                    0,\n",
    "                    1,\n",
    "                    2,\n",
    "                    3,\n",
    "                    4,\n",
    "                    5,\n",
    "                    6,\n",
    "                ],\n",
    "\n",
    "            }\n",
    "    ],\n",
    "    \"default_dose_amount\": 2,\n",
    "    \"default_dose_unit\": \"mililitre\", \n",
    "})\n",
    "pprint(response.status_code)\n",
    "pprint(response.text)"
   ]
  },
  {
   "cell_type": "code",
   "execution_count": 64,
   "id": "caf5f542-eca2-49ed-95df-49c6d3fcde69",
   "metadata": {
    "scrolled": true
   },
   "outputs": [
    {
     "data": {
      "text/plain": [
       "''"
      ]
     },
     "execution_count": 64,
     "metadata": {},
     "output_type": "execute_result"
    }
   ],
   "source": [
    "response = client.delete('/medication/medications/1/')\n",
    "response.text"
   ]
  },
  {
   "cell_type": "code",
   "execution_count": 1,
   "id": "a1c31259-dcd9-4544-aa34-f4b3662ed255",
   "metadata": {},
   "outputs": [],
   "source": [
    "deps = \"\"\"\n",
    "anyio==4.9.0\n",
    "argon2-cffi==23.1.0\n",
    "argon2-cffi-bindings==21.2.0\n",
    "arrow==1.3.0\n",
    "asgiref==3.8.1\n",
    "asttokens==3.0.0\n",
    "async-lru==2.0.5\n",
    "attrs==25.3.0\n",
    "babel==2.17.0\n",
    "beautifulsoup4==4.13.4\n",
    "bleach==6.2.0\n",
    "certifi==2025.4.26\n",
    "cffi==1.17.1\n",
    "charset-normalizer==3.4.2\n",
    "colorama==0.4.6\n",
    "comm==0.2.2\n",
    "debugpy==1.8.14\n",
    "decorator==5.2.1\n",
    "defusedxml==0.7.1\n",
    "Django==5.2.1\n",
    "django-allauth==65.8.0\n",
    "django-cors-headers==4.7.0\n",
    "django-environ==0.12.0\n",
    "django-extensions==4.1\n",
    "djangorestframework==3.16.0\n",
    "djangorestframework_simplejwt==5.5.0\n",
    "executing==2.2.0\n",
    "fastjsonschema==2.21.1\n",
    "fqdn==1.5.1\n",
    "h11==0.16.0\n",
    "httpcore==1.0.9\n",
    "httpx==0.28.1\n",
    "idna==3.10\n",
    "ipykernel==6.29.5\n",
    "ipython==9.2.0\n",
    "ipython_pygments_lexers==1.1.1\n",
    "ipywidgets==8.1.7\n",
    "isoduration==20.11.0\n",
    "jedi==0.19.2\n",
    "Jinja2==3.1.6\n",
    "json5==0.12.0\n",
    "jsonpointer==3.0.0\n",
    "jsonschema==4.23.0\n",
    "jsonschema-specifications==2025.4.1\n",
    "jupyter==1.1.1\n",
    "jupyter-console==6.6.3\n",
    "jupyter-events==0.12.0\n",
    "jupyter-lsp==2.2.5\n",
    "jupyter_client==8.6.3\n",
    "jupyter_core==5.7.2\n",
    "jupyter_server==2.15.0\n",
    "jupyter_server_terminals==0.5.3\n",
    "jupyterlab==4.4.2\n",
    "jupyterlab_pygments==0.3.0\n",
    "jupyterlab_server==2.27.3\n",
    "jupyterlab_widgets==3.0.15\n",
    "MarkupSafe==3.0.2\n",
    "matplotlib-inline==0.1.7\n",
    "mistune==3.1.3\n",
    "nbclient==0.10.2\n",
    "nbconvert==7.16.6\n",
    "nbformat==5.10.4\n",
    "nest-asyncio==1.6.0\n",
    "notebook==7.4.2\n",
    "notebook_shim==0.2.4\n",
    "overrides==7.7.0\n",
    "packaging==25.0\n",
    "pandocfilters==1.5.1\n",
    "parso==0.8.4\n",
    "platformdirs==4.3.8\n",
    "prometheus_client==0.21.1\n",
    "prompt_toolkit==3.0.51\n",
    "psutil==7.0.0\n",
    "psycopg2-binary==2.9.10\n",
    "pure_eval==0.2.3\n",
    "pycparser==2.22\n",
    "Pygments==2.19.1\n",
    "PyJWT==2.9.0\n",
    "python-dateutil==2.9.0.post0\n",
    "python-json-logger==3.3.0\n",
    "pywin32==310\n",
    "pywinpty==2.0.15\n",
    "PyYAML==6.0.2\n",
    "pyzmq==26.4.0\n",
    "referencing==0.36.2\n",
    "requests==2.32.3\n",
    "rfc3339-validator==0.1.4\n",
    "rfc3986-validator==0.1.1\n",
    "rpds-py==0.24.0\n",
    "Send2Trash==1.8.3\n",
    "setuptools==80.4.0\n",
    "six==1.17.0\n",
    "sniffio==1.3.1\n",
    "soupsieve==2.7\n",
    "sqlparse==0.5.3\n",
    "stack-data==0.6.3\n",
    "terminado==0.18.1\n",
    "tinycss2==1.4.0\n",
    "tornado==6.4.2\n",
    "traitlets==5.14.3\n",
    "types-python-dateutil==2.9.0.20241206\n",
    "typing_extensions==4.13.2\n",
    "tzdata==2025.2\n",
    "uri-template==1.3.0\n",
    "urllib3==2.4.0\n",
    "wcwidth==0.2.13\n",
    "webcolors==24.11.1\n",
    "webencodings==0.5.1\n",
    "websocket-client==1.8.0\n",
    "widgetsnbextension==4.0.14\n",
    "\"\"\""
   ]
  },
  {
   "cell_type": "code",
   "execution_count": 5,
   "id": "ab4ed9e1-8a65-45e6-9954-3e91bd15d336",
   "metadata": {},
   "outputs": [
    {
     "name": "stdout",
     "output_type": "stream",
     "text": [
      "\n",
      "anyio\n",
      "argon2-cffi\n",
      "argon2-cffi-bindings\n",
      "arrow\n",
      "asgiref\n",
      "asttokens\n",
      "async-lru\n",
      "attrs\n",
      "babel\n",
      "beautifulsoup4\n",
      "bleach\n",
      "certifi\n",
      "cffi\n",
      "charset-normalizer\n",
      "colorama\n",
      "comm\n",
      "debugpy\n",
      "decorator\n",
      "defusedxml\n",
      "Django\n",
      "django-allauth\n",
      "django-cors-headers\n",
      "django-environ\n",
      "django-extensions\n",
      "djangorestframework\n",
      "djangorestframework_simplejwt\n",
      "executing\n",
      "fastjsonschema\n",
      "fqdn\n",
      "h11\n",
      "httpcore\n",
      "httpx\n",
      "idna\n",
      "ipykernel\n",
      "ipython\n",
      "ipython_pygments_lexers\n",
      "ipywidgets\n",
      "isoduration\n",
      "jedi\n",
      "Jinja2\n",
      "json5\n",
      "jsonpointer\n",
      "jsonschema\n",
      "jsonschema-specifications\n",
      "jupyter\n",
      "jupyter-console\n",
      "jupyter-events\n",
      "jupyter-lsp\n",
      "jupyter_client\n",
      "jupyter_core\n",
      "jupyter_server\n",
      "jupyter_server_terminals\n",
      "jupyterlab\n",
      "jupyterlab_pygments\n",
      "jupyterlab_server\n",
      "jupyterlab_widgets\n",
      "MarkupSafe\n",
      "matplotlib-inline\n",
      "mistune\n",
      "nbclient\n",
      "nbconvert\n",
      "nbformat\n",
      "nest-asyncio\n",
      "notebook\n",
      "notebook_shim\n",
      "overrides\n",
      "packaging\n",
      "pandocfilters\n",
      "parso\n",
      "platformdirs\n",
      "prometheus_client\n",
      "prompt_toolkit\n",
      "psutil\n",
      "psycopg2-binary\n",
      "pure_eval\n",
      "pycparser\n",
      "Pygments\n",
      "PyJWT\n",
      "python-dateutil\n",
      "python-json-logger\n",
      "pywin32\n",
      "pywinpty\n",
      "PyYAML\n",
      "pyzmq\n",
      "referencing\n",
      "requests\n",
      "rfc3339-validator\n",
      "rfc3986-validator\n",
      "rpds-py\n",
      "Send2Trash\n",
      "setuptools\n",
      "six\n",
      "sniffio\n",
      "soupsieve\n",
      "sqlparse\n",
      "stack-data\n",
      "terminado\n",
      "tinycss2\n",
      "tornado\n",
      "traitlets\n",
      "types-python-dateutil\n",
      "typing_extensions\n",
      "tzdata\n",
      "uri-template\n",
      "urllib3\n",
      "wcwidth\n",
      "webcolors\n",
      "webencodings\n",
      "websocket-client\n",
      "widgetsnbextension\n",
      "\n"
     ]
    }
   ],
   "source": [
    "for dep in deps.split('\\n'):\n",
    "    print(dep.split('==')[0])"
   ]
  },
  {
   "cell_type": "code",
   "execution_count": null,
   "id": "11061e7d-295a-42c7-832c-d11344c34410",
   "metadata": {},
   "outputs": [],
   "source": []
  }
 ],
 "metadata": {
  "kernelspec": {
   "display_name": "Python 3 (ipykernel)",
   "language": "python",
   "name": "python3"
  },
  "language_info": {
   "codemirror_mode": {
    "name": "ipython",
    "version": 3
   },
   "file_extension": ".py",
   "mimetype": "text/x-python",
   "name": "python",
   "nbconvert_exporter": "python",
   "pygments_lexer": "ipython3",
   "version": "3.12.5"
  }
 },
 "nbformat": 4,
 "nbformat_minor": 5
}
