{
 "cells": [
  {
   "cell_type": "code",
   "execution_count": 7,
   "id": "584a4596-2ee0-48ac-a5c6-c957c9e3918d",
   "metadata": {},
   "outputs": [],
   "source": [
    "!cd C:\\Users\\seker\\Desktop\\prod\\uk_ile_savas\\project\\backend"
   ]
  },
  {
   "cell_type": "code",
   "execution_count": 1,
   "id": "836b69a4-f829-45fc-ae82-5ba037de0232",
   "metadata": {},
   "outputs": [],
   "source": [
    "import os"
   ]
  },
  {
   "cell_type": "code",
   "execution_count": 2,
   "id": "2fe9fd71-7092-46ba-a680-d9271c294605",
   "metadata": {},
   "outputs": [],
   "source": [
    "os.environ[\"DJANGO_ALLOW_ASYNC_UNSAFE\"] = 'true'"
   ]
  },
  {
   "cell_type": "code",
   "execution_count": 3,
   "id": "899f7aec-5240-4731-8362-a99b4269035c",
   "metadata": {
    "scrolled": true
   },
   "outputs": [
    {
     "name": "stdout",
     "output_type": "stream",
     "text": [
      "Requirement already satisfied: django-allauth[socialaccount] in c:\\users\\seker\\desktop\\prod\\uk_ile_savas\\project\\backend\\.venv\\lib\\site-packages (65.8.0)\n",
      "Requirement already satisfied: Django>=4.2.16 in c:\\users\\seker\\desktop\\prod\\uk_ile_savas\\project\\backend\\.venv\\lib\\site-packages (from django-allauth[socialaccount]) (5.2.1)\n",
      "Requirement already satisfied: asgiref>=3.8.1 in c:\\users\\seker\\desktop\\prod\\uk_ile_savas\\project\\backend\\.venv\\lib\\site-packages (from django-allauth[socialaccount]) (3.8.1)\n",
      "Requirement already satisfied: requests-oauthlib>=0.3.0 in c:\\users\\seker\\desktop\\prod\\uk_ile_savas\\project\\backend\\.venv\\lib\\site-packages (from django-allauth[socialaccount]) (2.0.0)\n",
      "Requirement already satisfied: requests>=2.0.0 in c:\\users\\seker\\desktop\\prod\\uk_ile_savas\\project\\backend\\.venv\\lib\\site-packages (from django-allauth[socialaccount]) (2.32.3)\n",
      "Requirement already satisfied: pyjwt>=1.7 in c:\\users\\seker\\desktop\\prod\\uk_ile_savas\\project\\backend\\.venv\\lib\\site-packages (from pyjwt[crypto]>=1.7; extra == \"socialaccount\"->django-allauth[socialaccount]) (2.9.0)\n",
      "Requirement already satisfied: sqlparse>=0.3.1 in c:\\users\\seker\\desktop\\prod\\uk_ile_savas\\project\\backend\\.venv\\lib\\site-packages (from Django>=4.2.16->django-allauth[socialaccount]) (0.5.3)\n",
      "Requirement already satisfied: tzdata in c:\\users\\seker\\desktop\\prod\\uk_ile_savas\\project\\backend\\.venv\\lib\\site-packages (from Django>=4.2.16->django-allauth[socialaccount]) (2025.2)\n",
      "Requirement already satisfied: cryptography>=3.4.0 in c:\\users\\seker\\desktop\\prod\\uk_ile_savas\\project\\backend\\.venv\\lib\\site-packages (from pyjwt[crypto]>=1.7; extra == \"socialaccount\"->django-allauth[socialaccount]) (44.0.3)\n",
      "Requirement already satisfied: charset-normalizer<4,>=2 in c:\\users\\seker\\desktop\\prod\\uk_ile_savas\\project\\backend\\.venv\\lib\\site-packages (from requests>=2.0.0->django-allauth[socialaccount]) (3.4.2)\n",
      "Requirement already satisfied: idna<4,>=2.5 in c:\\users\\seker\\desktop\\prod\\uk_ile_savas\\project\\backend\\.venv\\lib\\site-packages (from requests>=2.0.0->django-allauth[socialaccount]) (3.10)\n",
      "Requirement already satisfied: urllib3<3,>=1.21.1 in c:\\users\\seker\\desktop\\prod\\uk_ile_savas\\project\\backend\\.venv\\lib\\site-packages (from requests>=2.0.0->django-allauth[socialaccount]) (2.4.0)\n",
      "Requirement already satisfied: certifi>=2017.4.17 in c:\\users\\seker\\desktop\\prod\\uk_ile_savas\\project\\backend\\.venv\\lib\\site-packages (from requests>=2.0.0->django-allauth[socialaccount]) (2025.4.26)\n",
      "Requirement already satisfied: oauthlib>=3.0.0 in c:\\users\\seker\\desktop\\prod\\uk_ile_savas\\project\\backend\\.venv\\lib\\site-packages (from requests-oauthlib>=0.3.0->django-allauth[socialaccount]) (3.2.2)\n",
      "Requirement already satisfied: cffi>=1.12 in c:\\users\\seker\\desktop\\prod\\uk_ile_savas\\project\\backend\\.venv\\lib\\site-packages (from cryptography>=3.4.0->pyjwt[crypto]>=1.7; extra == \"socialaccount\"->django-allauth[socialaccount]) (1.17.1)\n",
      "Requirement already satisfied: pycparser in c:\\users\\seker\\desktop\\prod\\uk_ile_savas\\project\\backend\\.venv\\lib\\site-packages (from cffi>=1.12->cryptography>=3.4.0->pyjwt[crypto]>=1.7; extra == \"socialaccount\"->django-allauth[socialaccount]) (2.22)\n"
     ]
    },
    {
     "name": "stderr",
     "output_type": "stream",
     "text": [
      "\n",
      "[notice] A new release of pip is available: 25.0.1 -> 25.1.1\n",
      "[notice] To update, run: python.exe -m pip install --upgrade pip\n"
     ]
    }
   ],
   "source": [
    "!pip install \"django-allauth[socialaccount]\""
   ]
  },
  {
   "cell_type": "code",
   "execution_count": null,
   "id": "f7d36ae2-726d-4d6f-a734-ed808dc94f3d",
   "metadata": {},
   "outputs": [],
   "source": []
  },
  {
   "cell_type": "code",
   "execution_count": 4,
   "id": "ff67ddf2-6391-4de0-8f74-d7194130af82",
   "metadata": {},
   "outputs": [],
   "source": [
    "# ipykarnel seçilecek (kayıtlı olması da gerekli)\n",
    "import django\n",
    "import os\n",
    "import sys\n",
    "os.chdir(os.path.abspath(\"..\"))\n",
    "sys.path.append(os.path.abspath(\"..\"))\n",
    "sys.path.append(os.path.abspath(\"../\"))\n",
    "# if not django.apps.apps.ready:\n",
    "os.environ.setdefault(\"DJANGO_SETTINGS_MODULE\", \"config.settings.develop\")\n",
    "os.environ['DJANGO_SETTINGS_MODULE'] = 'config.settings.develop'"
   ]
  },
  {
   "cell_type": "code",
   "execution_count": 5,
   "id": "e61474ab-342f-4be9-9b6e-b202be2416b0",
   "metadata": {},
   "outputs": [
    {
     "name": "stdout",
     "output_type": "stream",
     "text": [
      "C:\\Users\\seker\\Desktop\\prod\\uk_ile_savas\\project\\backend\n"
     ]
    }
   ],
   "source": [
    "from config.settings.base import BASE_DIR\n",
    "print(BASE_DIR)"
   ]
  },
  {
   "cell_type": "code",
   "execution_count": 6,
   "id": "6527f5f8-6fc5-4054-9059-4997e083159b",
   "metadata": {
    "scrolled": true
   },
   "outputs": [],
   "source": [
    "django.setup()"
   ]
  },
  {
   "cell_type": "code",
   "execution_count": 7,
   "id": "ae6f7233-b786-4738-b7c2-06949b9731f0",
   "metadata": {},
   "outputs": [],
   "source": [
    "import logging\n",
    "logger = logging.getLogger('django.db.backends')\n",
    "logger.setLevel(logging.DEBUG)\n",
    "logger.addHandler(logging.StreamHandler())\n"
   ]
  },
  {
   "cell_type": "code",
   "execution_count": 8,
   "id": "86d9f4ac-5773-4c7a-aa96-dfc82f84d214",
   "metadata": {
    "scrolled": true
   },
   "outputs": [],
   "source": [
    "from medication.models import (\n",
    "WeekDay,\n",
    "Medication,\n",
    "MedicationSchedule,\n",
    "MedicationLog,\n",
    "DailyNote,\n",
    "MedicationDoseTime,\n",
    ")\n"
   ]
  },
  {
   "cell_type": "code",
   "execution_count": 9,
   "id": "c972f26a-4132-4451-93ab-9df5a3716781",
   "metadata": {},
   "outputs": [
    {
     "ename": "OperationalError",
     "evalue": "connection to server at \"host.docker.internal\" (172.23.246.123), port 2000 failed: Connection refused (0x0000274D/10061)\n\tIs the server running on that host and accepting TCP/IP connections?\n",
     "output_type": "error",
     "traceback": [
      "\u001b[31m---------------------------------------------------------------------------\u001b[39m",
      "\u001b[31mOperationalError\u001b[39m                          Traceback (most recent call last)",
      "\u001b[36mFile \u001b[39m\u001b[32m~\\Desktop\\prod\\uk_ile_savas\\project\\backend\\.venv\\Lib\\site-packages\\django\\db\\backends\\base\\base.py:279\u001b[39m, in \u001b[36mBaseDatabaseWrapper.ensure_connection\u001b[39m\u001b[34m(self)\u001b[39m\n\u001b[32m    278\u001b[39m \u001b[38;5;28;01mwith\u001b[39;00m \u001b[38;5;28mself\u001b[39m.wrap_database_errors:\n\u001b[32m--> \u001b[39m\u001b[32m279\u001b[39m     \u001b[38;5;28;43mself\u001b[39;49m\u001b[43m.\u001b[49m\u001b[43mconnect\u001b[49m\u001b[43m(\u001b[49m\u001b[43m)\u001b[49m\n",
      "\u001b[36mFile \u001b[39m\u001b[32m~\\Desktop\\prod\\uk_ile_savas\\project\\backend\\.venv\\Lib\\site-packages\\django\\utils\\asyncio.py:26\u001b[39m, in \u001b[36masync_unsafe.<locals>.decorator.<locals>.inner\u001b[39m\u001b[34m(*args, **kwargs)\u001b[39m\n\u001b[32m     25\u001b[39m \u001b[38;5;66;03m# Pass onward.\u001b[39;00m\n\u001b[32m---> \u001b[39m\u001b[32m26\u001b[39m \u001b[38;5;28;01mreturn\u001b[39;00m \u001b[43mfunc\u001b[49m\u001b[43m(\u001b[49m\u001b[43m*\u001b[49m\u001b[43margs\u001b[49m\u001b[43m,\u001b[49m\u001b[43m \u001b[49m\u001b[43m*\u001b[49m\u001b[43m*\u001b[49m\u001b[43mkwargs\u001b[49m\u001b[43m)\u001b[49m\n",
      "\u001b[36mFile \u001b[39m\u001b[32m~\\Desktop\\prod\\uk_ile_savas\\project\\backend\\.venv\\Lib\\site-packages\\django\\db\\backends\\base\\base.py:256\u001b[39m, in \u001b[36mBaseDatabaseWrapper.connect\u001b[39m\u001b[34m(self)\u001b[39m\n\u001b[32m    255\u001b[39m conn_params = \u001b[38;5;28mself\u001b[39m.get_connection_params()\n\u001b[32m--> \u001b[39m\u001b[32m256\u001b[39m \u001b[38;5;28mself\u001b[39m.connection = \u001b[38;5;28;43mself\u001b[39;49m\u001b[43m.\u001b[49m\u001b[43mget_new_connection\u001b[49m\u001b[43m(\u001b[49m\u001b[43mconn_params\u001b[49m\u001b[43m)\u001b[49m\n\u001b[32m    257\u001b[39m \u001b[38;5;28mself\u001b[39m.set_autocommit(\u001b[38;5;28mself\u001b[39m.settings_dict[\u001b[33m\"\u001b[39m\u001b[33mAUTOCOMMIT\u001b[39m\u001b[33m\"\u001b[39m])\n",
      "\u001b[36mFile \u001b[39m\u001b[32m~\\Desktop\\prod\\uk_ile_savas\\project\\backend\\.venv\\Lib\\site-packages\\django\\utils\\asyncio.py:26\u001b[39m, in \u001b[36masync_unsafe.<locals>.decorator.<locals>.inner\u001b[39m\u001b[34m(*args, **kwargs)\u001b[39m\n\u001b[32m     25\u001b[39m \u001b[38;5;66;03m# Pass onward.\u001b[39;00m\n\u001b[32m---> \u001b[39m\u001b[32m26\u001b[39m \u001b[38;5;28;01mreturn\u001b[39;00m \u001b[43mfunc\u001b[49m\u001b[43m(\u001b[49m\u001b[43m*\u001b[49m\u001b[43margs\u001b[49m\u001b[43m,\u001b[49m\u001b[43m \u001b[49m\u001b[43m*\u001b[49m\u001b[43m*\u001b[49m\u001b[43mkwargs\u001b[49m\u001b[43m)\u001b[49m\n",
      "\u001b[36mFile \u001b[39m\u001b[32m~\\Desktop\\prod\\uk_ile_savas\\project\\backend\\.venv\\Lib\\site-packages\\django\\db\\backends\\postgresql\\base.py:332\u001b[39m, in \u001b[36mDatabaseWrapper.get_new_connection\u001b[39m\u001b[34m(self, conn_params)\u001b[39m\n\u001b[32m    331\u001b[39m \u001b[38;5;28;01melse\u001b[39;00m:\n\u001b[32m--> \u001b[39m\u001b[32m332\u001b[39m     connection = \u001b[38;5;28;43mself\u001b[39;49m\u001b[43m.\u001b[49m\u001b[43mDatabase\u001b[49m\u001b[43m.\u001b[49m\u001b[43mconnect\u001b[49m\u001b[43m(\u001b[49m\u001b[43m*\u001b[49m\u001b[43m*\u001b[49m\u001b[43mconn_params\u001b[49m\u001b[43m)\u001b[49m\n\u001b[32m    333\u001b[39m \u001b[38;5;28;01mif\u001b[39;00m set_isolation_level:\n",
      "\u001b[36mFile \u001b[39m\u001b[32m~\\Desktop\\prod\\uk_ile_savas\\project\\backend\\.venv\\Lib\\site-packages\\psycopg2\\__init__.py:122\u001b[39m, in \u001b[36mconnect\u001b[39m\u001b[34m(dsn, connection_factory, cursor_factory, **kwargs)\u001b[39m\n\u001b[32m    121\u001b[39m dsn = _ext.make_dsn(dsn, **kwargs)\n\u001b[32m--> \u001b[39m\u001b[32m122\u001b[39m conn = \u001b[43m_connect\u001b[49m\u001b[43m(\u001b[49m\u001b[43mdsn\u001b[49m\u001b[43m,\u001b[49m\u001b[43m \u001b[49m\u001b[43mconnection_factory\u001b[49m\u001b[43m=\u001b[49m\u001b[43mconnection_factory\u001b[49m\u001b[43m,\u001b[49m\u001b[43m \u001b[49m\u001b[43m*\u001b[49m\u001b[43m*\u001b[49m\u001b[43mkwasync\u001b[49m\u001b[43m)\u001b[49m\n\u001b[32m    123\u001b[39m \u001b[38;5;28;01mif\u001b[39;00m cursor_factory \u001b[38;5;129;01mis\u001b[39;00m \u001b[38;5;129;01mnot\u001b[39;00m \u001b[38;5;28;01mNone\u001b[39;00m:\n",
      "\u001b[31mOperationalError\u001b[39m: connection to server at \"host.docker.internal\" (172.23.246.123), port 2000 failed: Connection refused (0x0000274D/10061)\n\tIs the server running on that host and accepting TCP/IP connections?\n",
      "\nThe above exception was the direct cause of the following exception:\n",
      "\u001b[31mOperationalError\u001b[39m                          Traceback (most recent call last)",
      "\u001b[36mFile \u001b[39m\u001b[32m~\\Desktop\\prod\\uk_ile_savas\\project\\backend\\.venv\\Lib\\site-packages\\IPython\\core\\formatters.py:770\u001b[39m, in \u001b[36mPlainTextFormatter.__call__\u001b[39m\u001b[34m(self, obj)\u001b[39m\n\u001b[32m    763\u001b[39m stream = StringIO()\n\u001b[32m    764\u001b[39m printer = pretty.RepresentationPrinter(stream, \u001b[38;5;28mself\u001b[39m.verbose,\n\u001b[32m    765\u001b[39m     \u001b[38;5;28mself\u001b[39m.max_width, \u001b[38;5;28mself\u001b[39m.newline,\n\u001b[32m    766\u001b[39m     max_seq_length=\u001b[38;5;28mself\u001b[39m.max_seq_length,\n\u001b[32m    767\u001b[39m     singleton_pprinters=\u001b[38;5;28mself\u001b[39m.singleton_printers,\n\u001b[32m    768\u001b[39m     type_pprinters=\u001b[38;5;28mself\u001b[39m.type_printers,\n\u001b[32m    769\u001b[39m     deferred_pprinters=\u001b[38;5;28mself\u001b[39m.deferred_printers)\n\u001b[32m--> \u001b[39m\u001b[32m770\u001b[39m \u001b[43mprinter\u001b[49m\u001b[43m.\u001b[49m\u001b[43mpretty\u001b[49m\u001b[43m(\u001b[49m\u001b[43mobj\u001b[49m\u001b[43m)\u001b[49m\n\u001b[32m    771\u001b[39m printer.flush()\n\u001b[32m    772\u001b[39m \u001b[38;5;28;01mreturn\u001b[39;00m stream.getvalue()\n",
      "\u001b[36mFile \u001b[39m\u001b[32m~\\Desktop\\prod\\uk_ile_savas\\project\\backend\\.venv\\Lib\\site-packages\\IPython\\lib\\pretty.py:411\u001b[39m, in \u001b[36mRepresentationPrinter.pretty\u001b[39m\u001b[34m(self, obj)\u001b[39m\n\u001b[32m    400\u001b[39m                         \u001b[38;5;28;01mreturn\u001b[39;00m meth(obj, \u001b[38;5;28mself\u001b[39m, cycle)\n\u001b[32m    401\u001b[39m                 \u001b[38;5;28;01mif\u001b[39;00m (\n\u001b[32m    402\u001b[39m                     \u001b[38;5;28mcls\u001b[39m \u001b[38;5;129;01mis\u001b[39;00m \u001b[38;5;129;01mnot\u001b[39;00m \u001b[38;5;28mobject\u001b[39m\n\u001b[32m    403\u001b[39m                     \u001b[38;5;66;03m# check if cls defines __repr__\u001b[39;00m\n\u001b[32m   (...)\u001b[39m\u001b[32m    409\u001b[39m                     \u001b[38;5;129;01mand\u001b[39;00m \u001b[38;5;28mcallable\u001b[39m(_safe_getattr(\u001b[38;5;28mcls\u001b[39m, \u001b[33m\"\u001b[39m\u001b[33m__repr__\u001b[39m\u001b[33m\"\u001b[39m, \u001b[38;5;28;01mNone\u001b[39;00m))\n\u001b[32m    410\u001b[39m                 ):\n\u001b[32m--> \u001b[39m\u001b[32m411\u001b[39m                     \u001b[38;5;28;01mreturn\u001b[39;00m \u001b[43m_repr_pprint\u001b[49m\u001b[43m(\u001b[49m\u001b[43mobj\u001b[49m\u001b[43m,\u001b[49m\u001b[43m \u001b[49m\u001b[38;5;28;43mself\u001b[39;49m\u001b[43m,\u001b[49m\u001b[43m \u001b[49m\u001b[43mcycle\u001b[49m\u001b[43m)\u001b[49m\n\u001b[32m    413\u001b[39m     \u001b[38;5;28;01mreturn\u001b[39;00m _default_pprint(obj, \u001b[38;5;28mself\u001b[39m, cycle)\n\u001b[32m    414\u001b[39m \u001b[38;5;28;01mfinally\u001b[39;00m:\n",
      "\u001b[36mFile \u001b[39m\u001b[32m~\\Desktop\\prod\\uk_ile_savas\\project\\backend\\.venv\\Lib\\site-packages\\IPython\\lib\\pretty.py:786\u001b[39m, in \u001b[36m_repr_pprint\u001b[39m\u001b[34m(obj, p, cycle)\u001b[39m\n\u001b[32m    784\u001b[39m \u001b[38;5;250m\u001b[39m\u001b[33;03m\"\"\"A pprint that just redirects to the normal repr function.\"\"\"\u001b[39;00m\n\u001b[32m    785\u001b[39m \u001b[38;5;66;03m# Find newlines and replace them with p.break_()\u001b[39;00m\n\u001b[32m--> \u001b[39m\u001b[32m786\u001b[39m output = \u001b[38;5;28;43mrepr\u001b[39;49m\u001b[43m(\u001b[49m\u001b[43mobj\u001b[49m\u001b[43m)\u001b[49m\n\u001b[32m    787\u001b[39m lines = output.splitlines()\n\u001b[32m    788\u001b[39m \u001b[38;5;28;01mwith\u001b[39;00m p.group():\n",
      "\u001b[36mFile \u001b[39m\u001b[32m~\\Desktop\\prod\\uk_ile_savas\\project\\backend\\.venv\\Lib\\site-packages\\django\\db\\models\\query.py:360\u001b[39m, in \u001b[36mQuerySet.__repr__\u001b[39m\u001b[34m(self)\u001b[39m\n\u001b[32m    359\u001b[39m \u001b[38;5;28;01mdef\u001b[39;00m\u001b[38;5;250m \u001b[39m\u001b[34m__repr__\u001b[39m(\u001b[38;5;28mself\u001b[39m):\n\u001b[32m--> \u001b[39m\u001b[32m360\u001b[39m     data = \u001b[38;5;28;43mlist\u001b[39;49m\u001b[43m(\u001b[49m\u001b[38;5;28;43mself\u001b[39;49m\u001b[43m[\u001b[49m\u001b[43m:\u001b[49m\u001b[43m \u001b[49m\u001b[43mREPR_OUTPUT_SIZE\u001b[49m\u001b[43m \u001b[49m\u001b[43m+\u001b[49m\u001b[43m \u001b[49m\u001b[32;43m1\u001b[39;49m\u001b[43m]\u001b[49m\u001b[43m)\u001b[49m\n\u001b[32m    361\u001b[39m     \u001b[38;5;28;01mif\u001b[39;00m \u001b[38;5;28mlen\u001b[39m(data) > REPR_OUTPUT_SIZE:\n\u001b[32m    362\u001b[39m         data[-\u001b[32m1\u001b[39m] = \u001b[33m\"\u001b[39m\u001b[33m...(remaining elements truncated)...\u001b[39m\u001b[33m\"\u001b[39m\n",
      "\u001b[36mFile \u001b[39m\u001b[32m~\\Desktop\\prod\\uk_ile_savas\\project\\backend\\.venv\\Lib\\site-packages\\django\\db\\models\\query.py:384\u001b[39m, in \u001b[36mQuerySet.__iter__\u001b[39m\u001b[34m(self)\u001b[39m\n\u001b[32m    369\u001b[39m \u001b[38;5;28;01mdef\u001b[39;00m\u001b[38;5;250m \u001b[39m\u001b[34m__iter__\u001b[39m(\u001b[38;5;28mself\u001b[39m):\n\u001b[32m    370\u001b[39m \u001b[38;5;250m    \u001b[39m\u001b[33;03m\"\"\"\u001b[39;00m\n\u001b[32m    371\u001b[39m \u001b[33;03m    The queryset iterator protocol uses three nested iterators in the\u001b[39;00m\n\u001b[32m    372\u001b[39m \u001b[33;03m    default case:\u001b[39;00m\n\u001b[32m   (...)\u001b[39m\u001b[32m    382\u001b[39m \u001b[33;03m           - Responsible for turning the rows into model objects.\u001b[39;00m\n\u001b[32m    383\u001b[39m \u001b[33;03m    \"\"\"\u001b[39;00m\n\u001b[32m--> \u001b[39m\u001b[32m384\u001b[39m     \u001b[38;5;28;43mself\u001b[39;49m\u001b[43m.\u001b[49m\u001b[43m_fetch_all\u001b[49m\u001b[43m(\u001b[49m\u001b[43m)\u001b[49m\n\u001b[32m    385\u001b[39m     \u001b[38;5;28;01mreturn\u001b[39;00m \u001b[38;5;28miter\u001b[39m(\u001b[38;5;28mself\u001b[39m._result_cache)\n",
      "\u001b[36mFile \u001b[39m\u001b[32m~\\Desktop\\prod\\uk_ile_savas\\project\\backend\\.venv\\Lib\\site-packages\\django\\db\\models\\query.py:1945\u001b[39m, in \u001b[36mQuerySet._fetch_all\u001b[39m\u001b[34m(self)\u001b[39m\n\u001b[32m   1943\u001b[39m \u001b[38;5;28;01mdef\u001b[39;00m\u001b[38;5;250m \u001b[39m\u001b[34m_fetch_all\u001b[39m(\u001b[38;5;28mself\u001b[39m):\n\u001b[32m   1944\u001b[39m     \u001b[38;5;28;01mif\u001b[39;00m \u001b[38;5;28mself\u001b[39m._result_cache \u001b[38;5;129;01mis\u001b[39;00m \u001b[38;5;28;01mNone\u001b[39;00m:\n\u001b[32m-> \u001b[39m\u001b[32m1945\u001b[39m         \u001b[38;5;28mself\u001b[39m._result_cache = \u001b[38;5;28;43mlist\u001b[39;49m\u001b[43m(\u001b[49m\u001b[38;5;28;43mself\u001b[39;49m\u001b[43m.\u001b[49m\u001b[43m_iterable_class\u001b[49m\u001b[43m(\u001b[49m\u001b[38;5;28;43mself\u001b[39;49m\u001b[43m)\u001b[49m\u001b[43m)\u001b[49m\n\u001b[32m   1946\u001b[39m     \u001b[38;5;28;01mif\u001b[39;00m \u001b[38;5;28mself\u001b[39m._prefetch_related_lookups \u001b[38;5;129;01mand\u001b[39;00m \u001b[38;5;129;01mnot\u001b[39;00m \u001b[38;5;28mself\u001b[39m._prefetch_done:\n\u001b[32m   1947\u001b[39m         \u001b[38;5;28mself\u001b[39m._prefetch_related_objects()\n",
      "\u001b[36mFile \u001b[39m\u001b[32m~\\Desktop\\prod\\uk_ile_savas\\project\\backend\\.venv\\Lib\\site-packages\\django\\db\\models\\query.py:91\u001b[39m, in \u001b[36mModelIterable.__iter__\u001b[39m\u001b[34m(self)\u001b[39m\n\u001b[32m     88\u001b[39m compiler = queryset.query.get_compiler(using=db)\n\u001b[32m     89\u001b[39m \u001b[38;5;66;03m# Execute the query. This will also fill compiler.select, klass_info,\u001b[39;00m\n\u001b[32m     90\u001b[39m \u001b[38;5;66;03m# and annotations.\u001b[39;00m\n\u001b[32m---> \u001b[39m\u001b[32m91\u001b[39m results = \u001b[43mcompiler\u001b[49m\u001b[43m.\u001b[49m\u001b[43mexecute_sql\u001b[49m\u001b[43m(\u001b[49m\n\u001b[32m     92\u001b[39m \u001b[43m    \u001b[49m\u001b[43mchunked_fetch\u001b[49m\u001b[43m=\u001b[49m\u001b[38;5;28;43mself\u001b[39;49m\u001b[43m.\u001b[49m\u001b[43mchunked_fetch\u001b[49m\u001b[43m,\u001b[49m\u001b[43m \u001b[49m\u001b[43mchunk_size\u001b[49m\u001b[43m=\u001b[49m\u001b[38;5;28;43mself\u001b[39;49m\u001b[43m.\u001b[49m\u001b[43mchunk_size\u001b[49m\n\u001b[32m     93\u001b[39m \u001b[43m\u001b[49m\u001b[43m)\u001b[49m\n\u001b[32m     94\u001b[39m select, klass_info, annotation_col_map = (\n\u001b[32m     95\u001b[39m     compiler.select,\n\u001b[32m     96\u001b[39m     compiler.klass_info,\n\u001b[32m     97\u001b[39m     compiler.annotation_col_map,\n\u001b[32m     98\u001b[39m )\n\u001b[32m     99\u001b[39m model_cls = klass_info[\u001b[33m\"\u001b[39m\u001b[33mmodel\u001b[39m\u001b[33m\"\u001b[39m]\n",
      "\u001b[36mFile \u001b[39m\u001b[32m~\\Desktop\\prod\\uk_ile_savas\\project\\backend\\.venv\\Lib\\site-packages\\django\\db\\models\\sql\\compiler.py:1621\u001b[39m, in \u001b[36mSQLCompiler.execute_sql\u001b[39m\u001b[34m(self, result_type, chunked_fetch, chunk_size)\u001b[39m\n\u001b[32m   1619\u001b[39m     cursor = \u001b[38;5;28mself\u001b[39m.connection.chunked_cursor()\n\u001b[32m   1620\u001b[39m \u001b[38;5;28;01melse\u001b[39;00m:\n\u001b[32m-> \u001b[39m\u001b[32m1621\u001b[39m     cursor = \u001b[38;5;28;43mself\u001b[39;49m\u001b[43m.\u001b[49m\u001b[43mconnection\u001b[49m\u001b[43m.\u001b[49m\u001b[43mcursor\u001b[49m\u001b[43m(\u001b[49m\u001b[43m)\u001b[49m\n\u001b[32m   1622\u001b[39m \u001b[38;5;28;01mtry\u001b[39;00m:\n\u001b[32m   1623\u001b[39m     cursor.execute(sql, params)\n",
      "\u001b[36mFile \u001b[39m\u001b[32m~\\Desktop\\prod\\uk_ile_savas\\project\\backend\\.venv\\Lib\\site-packages\\django\\utils\\asyncio.py:26\u001b[39m, in \u001b[36masync_unsafe.<locals>.decorator.<locals>.inner\u001b[39m\u001b[34m(*args, **kwargs)\u001b[39m\n\u001b[32m     24\u001b[39m         \u001b[38;5;28;01mraise\u001b[39;00m SynchronousOnlyOperation(message)\n\u001b[32m     25\u001b[39m \u001b[38;5;66;03m# Pass onward.\u001b[39;00m\n\u001b[32m---> \u001b[39m\u001b[32m26\u001b[39m \u001b[38;5;28;01mreturn\u001b[39;00m \u001b[43mfunc\u001b[49m\u001b[43m(\u001b[49m\u001b[43m*\u001b[49m\u001b[43margs\u001b[49m\u001b[43m,\u001b[49m\u001b[43m \u001b[49m\u001b[43m*\u001b[49m\u001b[43m*\u001b[49m\u001b[43mkwargs\u001b[49m\u001b[43m)\u001b[49m\n",
      "\u001b[36mFile \u001b[39m\u001b[32m~\\Desktop\\prod\\uk_ile_savas\\project\\backend\\.venv\\Lib\\site-packages\\django\\db\\backends\\base\\base.py:320\u001b[39m, in \u001b[36mBaseDatabaseWrapper.cursor\u001b[39m\u001b[34m(self)\u001b[39m\n\u001b[32m    317\u001b[39m \u001b[38;5;129m@async_unsafe\u001b[39m\n\u001b[32m    318\u001b[39m \u001b[38;5;28;01mdef\u001b[39;00m\u001b[38;5;250m \u001b[39m\u001b[34mcursor\u001b[39m(\u001b[38;5;28mself\u001b[39m):\n\u001b[32m    319\u001b[39m \u001b[38;5;250m    \u001b[39m\u001b[33;03m\"\"\"Create a cursor, opening a connection if necessary.\"\"\"\u001b[39;00m\n\u001b[32m--> \u001b[39m\u001b[32m320\u001b[39m     \u001b[38;5;28;01mreturn\u001b[39;00m \u001b[38;5;28;43mself\u001b[39;49m\u001b[43m.\u001b[49m\u001b[43m_cursor\u001b[49m\u001b[43m(\u001b[49m\u001b[43m)\u001b[49m\n",
      "\u001b[36mFile \u001b[39m\u001b[32m~\\Desktop\\prod\\uk_ile_savas\\project\\backend\\.venv\\Lib\\site-packages\\django\\db\\backends\\base\\base.py:296\u001b[39m, in \u001b[36mBaseDatabaseWrapper._cursor\u001b[39m\u001b[34m(self, name)\u001b[39m\n\u001b[32m    294\u001b[39m \u001b[38;5;28;01mdef\u001b[39;00m\u001b[38;5;250m \u001b[39m\u001b[34m_cursor\u001b[39m(\u001b[38;5;28mself\u001b[39m, name=\u001b[38;5;28;01mNone\u001b[39;00m):\n\u001b[32m    295\u001b[39m     \u001b[38;5;28mself\u001b[39m.close_if_health_check_failed()\n\u001b[32m--> \u001b[39m\u001b[32m296\u001b[39m     \u001b[38;5;28;43mself\u001b[39;49m\u001b[43m.\u001b[49m\u001b[43mensure_connection\u001b[49m\u001b[43m(\u001b[49m\u001b[43m)\u001b[49m\n\u001b[32m    297\u001b[39m     \u001b[38;5;28;01mwith\u001b[39;00m \u001b[38;5;28mself\u001b[39m.wrap_database_errors:\n\u001b[32m    298\u001b[39m         \u001b[38;5;28;01mreturn\u001b[39;00m \u001b[38;5;28mself\u001b[39m._prepare_cursor(\u001b[38;5;28mself\u001b[39m.create_cursor(name))\n",
      "\u001b[36mFile \u001b[39m\u001b[32m~\\Desktop\\prod\\uk_ile_savas\\project\\backend\\.venv\\Lib\\site-packages\\django\\utils\\asyncio.py:26\u001b[39m, in \u001b[36masync_unsafe.<locals>.decorator.<locals>.inner\u001b[39m\u001b[34m(*args, **kwargs)\u001b[39m\n\u001b[32m     24\u001b[39m         \u001b[38;5;28;01mraise\u001b[39;00m SynchronousOnlyOperation(message)\n\u001b[32m     25\u001b[39m \u001b[38;5;66;03m# Pass onward.\u001b[39;00m\n\u001b[32m---> \u001b[39m\u001b[32m26\u001b[39m \u001b[38;5;28;01mreturn\u001b[39;00m \u001b[43mfunc\u001b[49m\u001b[43m(\u001b[49m\u001b[43m*\u001b[49m\u001b[43margs\u001b[49m\u001b[43m,\u001b[49m\u001b[43m \u001b[49m\u001b[43m*\u001b[49m\u001b[43m*\u001b[49m\u001b[43mkwargs\u001b[49m\u001b[43m)\u001b[49m\n",
      "\u001b[36mFile \u001b[39m\u001b[32m~\\Desktop\\prod\\uk_ile_savas\\project\\backend\\.venv\\Lib\\site-packages\\django\\db\\backends\\base\\base.py:278\u001b[39m, in \u001b[36mBaseDatabaseWrapper.ensure_connection\u001b[39m\u001b[34m(self)\u001b[39m\n\u001b[32m    274\u001b[39m \u001b[38;5;28;01mif\u001b[39;00m \u001b[38;5;28mself\u001b[39m.in_atomic_block \u001b[38;5;129;01mand\u001b[39;00m \u001b[38;5;28mself\u001b[39m.closed_in_transaction:\n\u001b[32m    275\u001b[39m     \u001b[38;5;28;01mraise\u001b[39;00m ProgrammingError(\n\u001b[32m    276\u001b[39m         \u001b[33m\"\u001b[39m\u001b[33mCannot open a new connection in an atomic block.\u001b[39m\u001b[33m\"\u001b[39m\n\u001b[32m    277\u001b[39m     )\n\u001b[32m--> \u001b[39m\u001b[32m278\u001b[39m \u001b[43m\u001b[49m\u001b[38;5;28;43;01mwith\u001b[39;49;00m\u001b[43m \u001b[49m\u001b[38;5;28;43mself\u001b[39;49m\u001b[43m.\u001b[49m\u001b[43mwrap_database_errors\u001b[49m\u001b[43m:\u001b[49m\n\u001b[32m    279\u001b[39m \u001b[43m    \u001b[49m\u001b[38;5;28;43mself\u001b[39;49m\u001b[43m.\u001b[49m\u001b[43mconnect\u001b[49m\u001b[43m(\u001b[49m\u001b[43m)\u001b[49m\n",
      "\u001b[36mFile \u001b[39m\u001b[32m~\\Desktop\\prod\\uk_ile_savas\\project\\backend\\.venv\\Lib\\site-packages\\django\\db\\utils.py:91\u001b[39m, in \u001b[36mDatabaseErrorWrapper.__exit__\u001b[39m\u001b[34m(self, exc_type, exc_value, traceback)\u001b[39m\n\u001b[32m     89\u001b[39m \u001b[38;5;28;01mif\u001b[39;00m dj_exc_type \u001b[38;5;129;01mnot\u001b[39;00m \u001b[38;5;129;01min\u001b[39;00m (DataError, IntegrityError):\n\u001b[32m     90\u001b[39m     \u001b[38;5;28mself\u001b[39m.wrapper.errors_occurred = \u001b[38;5;28;01mTrue\u001b[39;00m\n\u001b[32m---> \u001b[39m\u001b[32m91\u001b[39m \u001b[38;5;28;01mraise\u001b[39;00m dj_exc_value.with_traceback(traceback) \u001b[38;5;28;01mfrom\u001b[39;00m\u001b[38;5;250m \u001b[39m\u001b[34;01mexc_value\u001b[39;00m\n",
      "\u001b[36mFile \u001b[39m\u001b[32m~\\Desktop\\prod\\uk_ile_savas\\project\\backend\\.venv\\Lib\\site-packages\\django\\db\\backends\\base\\base.py:279\u001b[39m, in \u001b[36mBaseDatabaseWrapper.ensure_connection\u001b[39m\u001b[34m(self)\u001b[39m\n\u001b[32m    275\u001b[39m     \u001b[38;5;28;01mraise\u001b[39;00m ProgrammingError(\n\u001b[32m    276\u001b[39m         \u001b[33m\"\u001b[39m\u001b[33mCannot open a new connection in an atomic block.\u001b[39m\u001b[33m\"\u001b[39m\n\u001b[32m    277\u001b[39m     )\n\u001b[32m    278\u001b[39m \u001b[38;5;28;01mwith\u001b[39;00m \u001b[38;5;28mself\u001b[39m.wrap_database_errors:\n\u001b[32m--> \u001b[39m\u001b[32m279\u001b[39m     \u001b[38;5;28;43mself\u001b[39;49m\u001b[43m.\u001b[49m\u001b[43mconnect\u001b[49m\u001b[43m(\u001b[49m\u001b[43m)\u001b[49m\n",
      "\u001b[36mFile \u001b[39m\u001b[32m~\\Desktop\\prod\\uk_ile_savas\\project\\backend\\.venv\\Lib\\site-packages\\django\\utils\\asyncio.py:26\u001b[39m, in \u001b[36masync_unsafe.<locals>.decorator.<locals>.inner\u001b[39m\u001b[34m(*args, **kwargs)\u001b[39m\n\u001b[32m     24\u001b[39m         \u001b[38;5;28;01mraise\u001b[39;00m SynchronousOnlyOperation(message)\n\u001b[32m     25\u001b[39m \u001b[38;5;66;03m# Pass onward.\u001b[39;00m\n\u001b[32m---> \u001b[39m\u001b[32m26\u001b[39m \u001b[38;5;28;01mreturn\u001b[39;00m \u001b[43mfunc\u001b[49m\u001b[43m(\u001b[49m\u001b[43m*\u001b[49m\u001b[43margs\u001b[49m\u001b[43m,\u001b[49m\u001b[43m \u001b[49m\u001b[43m*\u001b[49m\u001b[43m*\u001b[49m\u001b[43mkwargs\u001b[49m\u001b[43m)\u001b[49m\n",
      "\u001b[36mFile \u001b[39m\u001b[32m~\\Desktop\\prod\\uk_ile_savas\\project\\backend\\.venv\\Lib\\site-packages\\django\\db\\backends\\base\\base.py:256\u001b[39m, in \u001b[36mBaseDatabaseWrapper.connect\u001b[39m\u001b[34m(self)\u001b[39m\n\u001b[32m    254\u001b[39m \u001b[38;5;66;03m# Establish the connection\u001b[39;00m\n\u001b[32m    255\u001b[39m conn_params = \u001b[38;5;28mself\u001b[39m.get_connection_params()\n\u001b[32m--> \u001b[39m\u001b[32m256\u001b[39m \u001b[38;5;28mself\u001b[39m.connection = \u001b[38;5;28;43mself\u001b[39;49m\u001b[43m.\u001b[49m\u001b[43mget_new_connection\u001b[49m\u001b[43m(\u001b[49m\u001b[43mconn_params\u001b[49m\u001b[43m)\u001b[49m\n\u001b[32m    257\u001b[39m \u001b[38;5;28mself\u001b[39m.set_autocommit(\u001b[38;5;28mself\u001b[39m.settings_dict[\u001b[33m\"\u001b[39m\u001b[33mAUTOCOMMIT\u001b[39m\u001b[33m\"\u001b[39m])\n\u001b[32m    258\u001b[39m \u001b[38;5;28mself\u001b[39m.init_connection_state()\n",
      "\u001b[36mFile \u001b[39m\u001b[32m~\\Desktop\\prod\\uk_ile_savas\\project\\backend\\.venv\\Lib\\site-packages\\django\\utils\\asyncio.py:26\u001b[39m, in \u001b[36masync_unsafe.<locals>.decorator.<locals>.inner\u001b[39m\u001b[34m(*args, **kwargs)\u001b[39m\n\u001b[32m     24\u001b[39m         \u001b[38;5;28;01mraise\u001b[39;00m SynchronousOnlyOperation(message)\n\u001b[32m     25\u001b[39m \u001b[38;5;66;03m# Pass onward.\u001b[39;00m\n\u001b[32m---> \u001b[39m\u001b[32m26\u001b[39m \u001b[38;5;28;01mreturn\u001b[39;00m \u001b[43mfunc\u001b[49m\u001b[43m(\u001b[49m\u001b[43m*\u001b[49m\u001b[43margs\u001b[49m\u001b[43m,\u001b[49m\u001b[43m \u001b[49m\u001b[43m*\u001b[49m\u001b[43m*\u001b[49m\u001b[43mkwargs\u001b[49m\u001b[43m)\u001b[49m\n",
      "\u001b[36mFile \u001b[39m\u001b[32m~\\Desktop\\prod\\uk_ile_savas\\project\\backend\\.venv\\Lib\\site-packages\\django\\db\\backends\\postgresql\\base.py:332\u001b[39m, in \u001b[36mDatabaseWrapper.get_new_connection\u001b[39m\u001b[34m(self, conn_params)\u001b[39m\n\u001b[32m    330\u001b[39m     connection = \u001b[38;5;28mself\u001b[39m.pool.getconn()\n\u001b[32m    331\u001b[39m \u001b[38;5;28;01melse\u001b[39;00m:\n\u001b[32m--> \u001b[39m\u001b[32m332\u001b[39m     connection = \u001b[38;5;28;43mself\u001b[39;49m\u001b[43m.\u001b[49m\u001b[43mDatabase\u001b[49m\u001b[43m.\u001b[49m\u001b[43mconnect\u001b[49m\u001b[43m(\u001b[49m\u001b[43m*\u001b[49m\u001b[43m*\u001b[49m\u001b[43mconn_params\u001b[49m\u001b[43m)\u001b[49m\n\u001b[32m    333\u001b[39m \u001b[38;5;28;01mif\u001b[39;00m set_isolation_level:\n\u001b[32m    334\u001b[39m     connection.isolation_level = \u001b[38;5;28mself\u001b[39m.isolation_level\n",
      "\u001b[36mFile \u001b[39m\u001b[32m~\\Desktop\\prod\\uk_ile_savas\\project\\backend\\.venv\\Lib\\site-packages\\psycopg2\\__init__.py:122\u001b[39m, in \u001b[36mconnect\u001b[39m\u001b[34m(dsn, connection_factory, cursor_factory, **kwargs)\u001b[39m\n\u001b[32m    119\u001b[39m     kwasync[\u001b[33m'\u001b[39m\u001b[33masync_\u001b[39m\u001b[33m'\u001b[39m] = kwargs.pop(\u001b[33m'\u001b[39m\u001b[33masync_\u001b[39m\u001b[33m'\u001b[39m)\n\u001b[32m    121\u001b[39m dsn = _ext.make_dsn(dsn, **kwargs)\n\u001b[32m--> \u001b[39m\u001b[32m122\u001b[39m conn = \u001b[43m_connect\u001b[49m\u001b[43m(\u001b[49m\u001b[43mdsn\u001b[49m\u001b[43m,\u001b[49m\u001b[43m \u001b[49m\u001b[43mconnection_factory\u001b[49m\u001b[43m=\u001b[49m\u001b[43mconnection_factory\u001b[49m\u001b[43m,\u001b[49m\u001b[43m \u001b[49m\u001b[43m*\u001b[49m\u001b[43m*\u001b[49m\u001b[43mkwasync\u001b[49m\u001b[43m)\u001b[49m\n\u001b[32m    123\u001b[39m \u001b[38;5;28;01mif\u001b[39;00m cursor_factory \u001b[38;5;129;01mis\u001b[39;00m \u001b[38;5;129;01mnot\u001b[39;00m \u001b[38;5;28;01mNone\u001b[39;00m:\n\u001b[32m    124\u001b[39m     conn.cursor_factory = cursor_factory\n",
      "\u001b[31mOperationalError\u001b[39m: connection to server at \"host.docker.internal\" (172.23.246.123), port 2000 failed: Connection refused (0x0000274D/10061)\n\tIs the server running on that host and accepting TCP/IP connections?\n"
     ]
    }
   ],
   "source": [
    "Medication.objects.all()"
   ]
  },
  {
   "cell_type": "code",
   "execution_count": null,
   "id": "44bfb152-d814-40f6-901e-af89f29ab237",
   "metadata": {},
   "outputs": [],
   "source": []
  }
 ],
 "metadata": {
  "kernelspec": {
   "display_name": "Python 3 (ipykernel)",
   "language": "python",
   "name": "python3"
  },
  "language_info": {
   "codemirror_mode": {
    "name": "ipython",
    "version": 3
   },
   "file_extension": ".py",
   "mimetype": "text/x-python",
   "name": "python",
   "nbconvert_exporter": "python",
   "pygments_lexer": "ipython3",
   "version": "3.12.5"
  }
 },
 "nbformat": 4,
 "nbformat_minor": 5
}
