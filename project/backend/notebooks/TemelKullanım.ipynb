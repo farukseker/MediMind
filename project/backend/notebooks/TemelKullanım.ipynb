{
 "cells": [
  {
   "cell_type": "markdown",
   "id": "05f3268c-5110-4385-b87e-35725f277dff",
   "metadata": {},
   "source": [
    "# Apı kulanım örnekleri"
   ]
  },
  {
   "cell_type": "code",
   "execution_count": 1,
   "id": "29addf87-560b-459e-aee2-38c0ac36d309",
   "metadata": {},
   "outputs": [],
   "source": [
    "from api_client import AutoJWTClient"
   ]
  },
  {
   "cell_type": "code",
   "execution_count": 2,
   "id": "16294dc3-44cc-4dd9-a82c-49ea76c27bbf",
   "metadata": {},
   "outputs": [],
   "source": [
    "client = AutoJWTClient(\n",
    "    base_url=\"http://192.168.123.97:1000/api\",\n",
    "    login_url=\"/auth/token/\",\n",
    "    email=\"a@a.com\",\n",
    "    password=\"pars\"\n",
    ")"
   ]
  },
  {
   "cell_type": "code",
   "execution_count": 3,
   "id": "8f12028a-57d5-4eca-a972-457c7e5ff63b",
   "metadata": {},
   "outputs": [],
   "source": [
    "from pprint import pprint"
   ]
  },
  {
   "cell_type": "markdown",
   "id": "b08a04dc-fe9d-4f45-adb8-46d746718f50",
   "metadata": {},
   "source": [
    "## ilaçları görüntülemek için"
   ]
  },
  {
   "cell_type": "code",
   "execution_count": 44,
   "id": "5ff44278-353c-4e6f-84be-d9c92081fb86",
   "metadata": {},
   "outputs": [],
   "source": [
    "response = client.get('/medication/medications/')"
   ]
  },
  {
   "cell_type": "code",
   "execution_count": 45,
   "id": "895839d6-c732-48cf-a79c-85ad1129f820",
   "metadata": {
    "scrolled": true
   },
   "outputs": [
    {
     "name": "stdout",
     "output_type": "stream",
     "text": [
      "[{'default_dose_amount': '500.00',\n",
      "  'default_dose_unit': 'miligram',\n",
      "  'id': 8,\n",
      "  'is_active': True,\n",
      "  'name': 'Parol 500 Mg 30 Tb',\n",
      "  'schedules': []},\n",
      " {'default_dose_amount': '500.00',\n",
      "  'default_dose_unit': 'ui',\n",
      "  'id': 9,\n",
      "  'is_active': True,\n",
      "  'name': 'Parol 500 Mg 30 Tb',\n",
      "  'schedules': []},\n",
      " {'default_dose_amount': '500.00',\n",
      "  'default_dose_unit': 'miligram',\n",
      "  'id': 10,\n",
      "  'is_active': True,\n",
      "  'name': 'Parol 500 Mg 20 Tb',\n",
      "  'schedules': [{'created_at': '2025-05-25T04:04:00.489290+03:00',\n",
      "                 'day_of_month': None,\n",
      "                 'days_of_week': [],\n",
      "                 'dose_amount': '1.00',\n",
      "                 'dose_unit': '',\n",
      "                 'doses_per_period': 1,\n",
      "                 'end_date': None,\n",
      "                 'frequency': 'daily',\n",
      "                 'id': 3,\n",
      "                 'interval': 1,\n",
      "                 'medication': 10,\n",
      "                 'start_date': '2025-05-10',\n",
      "                 'updated_at': '2025-05-25T04:04:00.489290+03:00'}]},\n",
      " {'default_dose_amount': '40.00',\n",
      "  'default_dose_unit': 'miligram',\n",
      "  'id': 11,\n",
      "  'is_active': True,\n",
      "  'name': 'Esom 40 Mg 28 Enterik Kapli Mikropellet Kap',\n",
      "  'schedules': [{'created_at': '2025-05-25T04:05:39.419835+03:00',\n",
      "                 'day_of_month': None,\n",
      "                 'days_of_week': [],\n",
      "                 'dose_amount': '1.00',\n",
      "                 'dose_unit': '',\n",
      "                 'doses_per_period': 1,\n",
      "                 'end_date': None,\n",
      "                 'frequency': 'daily',\n",
      "                 'id': 4,\n",
      "                 'interval': 1,\n",
      "                 'medication': 11,\n",
      "                 'start_date': '2025-05-10',\n",
      "                 'updated_at': '2025-05-25T04:05:39.419835+03:00'}]},\n",
      " {'default_dose_amount': '1.00',\n",
      "  'default_dose_unit': 'miligram',\n",
      "  'id': 12,\n",
      "  'is_active': True,\n",
      "  'name': 'Test',\n",
      "  'schedules': [{'created_at': '2025-05-25T04:08:43.876936+03:00',\n",
      "                 'day_of_month': None,\n",
      "                 'days_of_week': [1, 4, 6],\n",
      "                 'dose_amount': '1.00',\n",
      "                 'dose_unit': '',\n",
      "                 'doses_per_period': 1,\n",
      "                 'end_date': None,\n",
      "                 'frequency': 'weekly',\n",
      "                 'id': 5,\n",
      "                 'interval': 1,\n",
      "                 'medication': 12,\n",
      "                 'start_date': '2025-05-23',\n",
      "                 'updated_at': '2025-05-25T04:08:43.877446+03:00'}]},\n",
      " {'default_dose_amount': '1.00',\n",
      "  'default_dose_unit': 'miligram',\n",
      "  'id': 13,\n",
      "  'is_active': True,\n",
      "  'name': 'test',\n",
      "  'schedules': [{'created_at': '2025-05-25T05:21:09.976782+03:00',\n",
      "                 'day_of_month': None,\n",
      "                 'days_of_week': [],\n",
      "                 'dose_amount': '1.00',\n",
      "                 'dose_unit': '',\n",
      "                 'doses_per_period': 1,\n",
      "                 'end_date': None,\n",
      "                 'frequency': 'daily',\n",
      "                 'id': 6,\n",
      "                 'interval': 1,\n",
      "                 'medication': 13,\n",
      "                 'start_date': '2025-05-15',\n",
      "                 'updated_at': '2025-05-25T05:21:09.976782+03:00'}]}]\n"
     ]
    }
   ],
   "source": [
    "pprint(response.json())"
   ]
  },
  {
   "cell_type": "markdown",
   "id": "bf866cf3-334f-48d0-9415-7d62e48a4c16",
   "metadata": {},
   "source": [
    "## Spesifik bir ilacı görüntülemek için"
   ]
  },
  {
   "cell_type": "code",
   "execution_count": 27,
   "id": "71e40a23-9eca-4822-b191-52b671cede31",
   "metadata": {},
   "outputs": [
    {
     "data": {
      "text/plain": [
       "'{\"detail\":\"No Medication matches the given query.\"}'"
      ]
     },
     "execution_count": 27,
     "metadata": {},
     "output_type": "execute_result"
    }
   ],
   "source": [
    "medication_id: int = 1\n",
    "response = client.get(f'/medication/medications/{medication_id}/')\n",
    "response.text"
   ]
  },
  {
   "cell_type": "markdown",
   "id": "6077d211-a0e9-4cae-9833-f5f809e44986",
   "metadata": {},
   "source": [
    "## planlama"
   ]
  },
  {
   "cell_type": "code",
   "execution_count": 46,
   "id": "efc03fd9-3a2b-413c-a64c-e7e9ca955f7c",
   "metadata": {},
   "outputs": [
    {
     "data": {
      "text/plain": [
       "'[{\"id\":3,\"start_date\":\"2025-05-10\",\"end_date\":null,\"frequency\":\"daily\",\"interval\":1,\"day_of_month\":null,\"doses_per_period\":1,\"dose_amount\":\"1.00\",\"dose_unit\":\"\",\"created_at\":\"2025-05-25T04:04:00.489290+03:00\",\"updated_at\":\"2025-05-25T04:04:00.489290+03:00\",\"medication\":10,\"days_of_week\":[]},{\"id\":4,\"start_date\":\"2025-05-10\",\"end_date\":null,\"frequency\":\"daily\",\"interval\":1,\"day_of_month\":null,\"doses_per_period\":1,\"dose_amount\":\"1.00\",\"dose_unit\":\"\",\"created_at\":\"2025-05-25T04:05:39.419835+03:00\",\"updated_at\":\"2025-05-25T04:05:39.419835+03:00\",\"medication\":11,\"days_of_week\":[]},{\"id\":5,\"start_date\":\"2025-05-23\",\"end_date\":null,\"frequency\":\"weekly\",\"interval\":1,\"day_of_month\":null,\"doses_per_period\":1,\"dose_amount\":\"1.00\",\"dose_unit\":\"\",\"created_at\":\"2025-05-25T04:08:43.876936+03:00\",\"updated_at\":\"2025-05-25T04:08:43.877446+03:00\",\"medication\":12,\"days_of_week\":[1,4,6]},{\"id\":6,\"start_date\":\"2025-05-15\",\"end_date\":null,\"frequency\":\"daily\",\"interval\":1,\"day_of_month\":null,\"doses_per_period\":1,\"dose_amount\":\"1.00\",\"dose_unit\":\"\",\"created_at\":\"2025-05-25T05:21:09.976782+03:00\",\"updated_at\":\"2025-05-25T05:21:09.976782+03:00\",\"medication\":13,\"days_of_week\":[]}]'"
      ]
     },
     "execution_count": 46,
     "metadata": {},
     "output_type": "execute_result"
    }
   ],
   "source": [
    "response = client.get('/medication/medication-schedules')\n",
    "response.text"
   ]
  },
  {
   "cell_type": "markdown",
   "id": "d3a0fcf3-2d5c-4ddd-a4c5-b03ec07430f4",
   "metadata": {},
   "source": [
    "## Bugün hangi ilaçları alıcak"
   ]
  },
  {
   "cell_type": "code",
   "execution_count": 41,
   "id": "d270b61a-bf07-4290-a418-d4854912e546",
   "metadata": {
    "scrolled": true
   },
   "outputs": [
    {
     "name": "stdout",
     "output_type": "stream",
     "text": [
      "[{'dose': 1.0,\n",
      "  'dose_time_id': 4,\n",
      "  'medication_id': 10,\n",
      "  'medication_name': 'Parol 500 Mg 20 Tb',\n",
      "  'schedule_id': 3,\n",
      "  'time': '10:30',\n",
      "  'unit': 'miligram'},\n",
      " {'dose': 1.0,\n",
      "  'dose_time_id': 5,\n",
      "  'medication_id': 11,\n",
      "  'medication_name': 'Esom 40 Mg 28 Enterik Kapli Mikropellet Kap',\n",
      "  'schedule_id': 4,\n",
      "  'time': '10:30',\n",
      "  'unit': 'miligram'},\n",
      " {'dose': 1.0,\n",
      "  'dose_time_id': 7,\n",
      "  'medication_id': 13,\n",
      "  'medication_name': 'test',\n",
      "  'schedule_id': 6,\n",
      "  'time': '22:31',\n",
      "  'unit': 'miligram'}]\n"
     ]
    }
   ],
   "source": [
    "response = client.get('/medication/today/')\n",
    "try:\n",
    "    pprint(response.json())\n",
    "except:\n",
    "    print(response.text)"
   ]
  },
  {
   "cell_type": "code",
   "execution_count": null,
   "id": "c55f28ad-3ad3-4eda-9936-4162deb688aa",
   "metadata": {},
   "outputs": [],
   "source": [
    "## Ilaç Almak"
   ]
  },
  {
   "cell_type": "code",
   "execution_count": null,
   "id": "0deacf7a-5b04-4380-b848-2763e75b88c8",
   "metadata": {
    "scrolled": true
   },
   "outputs": [],
   "source": [
    "response = client.post('/medication/medication-logs/create/', data={\n",
    "    \"medication\": 5,\n",
    "    \"dose\": 1,\n",
    "    \"taken_status\": 'pass',\n",
    "    \"dose_time\": 2\n",
    "})\n",
    "response.text\n"
   ]
  },
  {
   "cell_type": "code",
   "execution_count": 19,
   "id": "509c445f-f580-4674-935a-9956eee49b69",
   "metadata": {
    "scrolled": true
   },
   "outputs": [
    {
     "name": "stdout",
     "output_type": "stream",
     "text": [
      "[{'date': '2025-05-26',\n",
      "  'medication_logs': [{'date': '2025-05-26',\n",
      "                       'dose_taken': None,\n",
      "                       'dose_time': 4,\n",
      "                       'dose_unit': '',\n",
      "                       'id': 62,\n",
      "                       'medication': 10,\n",
      "                       'medication_name': 'Parol 500 Mg 20 Tb',\n",
      "                       'notes': '',\n",
      "                       'taken_status': 'taken',\n",
      "                       'taken_time': None,\n",
      "                       'time': '19:46:42.520032',\n",
      "                       'user': 1},\n",
      "                      {'date': '2025-05-26',\n",
      "                       'dose_taken': None,\n",
      "                       'dose_time': 14,\n",
      "                       'dose_unit': '',\n",
      "                       'id': 61,\n",
      "                       'medication': 21,\n",
      "                       'medication_name': 'r432q543',\n",
      "                       'notes': '',\n",
      "                       'taken_status': 'taken',\n",
      "                       'taken_time': None,\n",
      "                       'time': '19:46:42.079491',\n",
      "                       'user': 1},\n",
      "                      {'date': '2025-05-26',\n",
      "                       'dose_taken': None,\n",
      "                       'dose_time': 7,\n",
      "                       'dose_unit': '',\n",
      "                       'id': 60,\n",
      "                       'medication': 13,\n",
      "                       'medication_name': 'test',\n",
      "                       'notes': '',\n",
      "                       'taken_status': 'taken',\n",
      "                       'taken_time': None,\n",
      "                       'time': '19:46:41.540161',\n",
      "                       'user': 1},\n",
      "                      {'date': '2025-05-26',\n",
      "                       'dose_taken': None,\n",
      "                       'dose_time': None,\n",
      "                       'dose_unit': '',\n",
      "                       'id': 59,\n",
      "                       'medication': 14,\n",
      "                       'medication_name': 'Abilify Maintena 400 Mg Uzun '\n",
      "                                          'Salimli Im Enjeksiyonluk 1 Flakon',\n",
      "                       'notes': '',\n",
      "                       'taken_status': 'taken',\n",
      "                       'taken_time': None,\n",
      "                       'time': '19:44:02.329137',\n",
      "                       'user': 1},\n",
      "                      {'date': '2025-05-26',\n",
      "                       'dose_taken': None,\n",
      "                       'dose_time': None,\n",
      "                       'dose_unit': '',\n",
      "                       'id': 58,\n",
      "                       'medication': 14,\n",
      "                       'medication_name': 'Abilify Maintena 400 Mg Uzun '\n",
      "                                          'Salimli Im Enjeksiyonluk 1 Flakon',\n",
      "                       'notes': '',\n",
      "                       'taken_status': 'taken',\n",
      "                       'taken_time': None,\n",
      "                       'time': '19:44:02.190005',\n",
      "                       'user': 1},\n",
      "                      {'date': '2025-05-26',\n",
      "                       'dose_taken': None,\n",
      "                       'dose_time': 13,\n",
      "                       'dose_unit': '',\n",
      "                       'id': 53,\n",
      "                       'medication': 20,\n",
      "                       'medication_name': 'r432q543',\n",
      "                       'notes': '',\n",
      "                       'taken_status': 'pass',\n",
      "                       'taken_time': None,\n",
      "                       'time': '19:43:47.460940',\n",
      "                       'user': 1},\n",
      "                      {'date': '2025-05-26',\n",
      "                       'dose_taken': None,\n",
      "                       'dose_time': 5,\n",
      "                       'dose_unit': '',\n",
      "                       'id': 52,\n",
      "                       'medication': 11,\n",
      "                       'medication_name': 'Esom 40 Mg 28 Enterik Kapli '\n",
      "                                          'Mikropellet Kap',\n",
      "                       'notes': '',\n",
      "                       'taken_status': 'pass',\n",
      "                       'taken_time': None,\n",
      "                       'time': '19:43:46.946006',\n",
      "                       'user': 1},\n",
      "                      {'date': '2025-05-26',\n",
      "                       'dose_taken': None,\n",
      "                       'dose_time': 15,\n",
      "                       'dose_unit': '',\n",
      "                       'id': 51,\n",
      "                       'medication': 22,\n",
      "                       'medication_name': 'r432q543',\n",
      "                       'notes': '',\n",
      "                       'taken_status': 'pass',\n",
      "                       'taken_time': None,\n",
      "                       'time': '19:43:45.458120',\n",
      "                       'user': 1},\n",
      "                      {'date': '2025-05-26',\n",
      "                       'dose_taken': None,\n",
      "                       'dose_time': 12,\n",
      "                       'dose_unit': '',\n",
      "                       'id': 50,\n",
      "                       'medication': 19,\n",
      "                       'medication_name': 'r432q543',\n",
      "                       'notes': '',\n",
      "                       'taken_status': 'pass',\n",
      "                       'taken_time': None,\n",
      "                       'time': '19:43:44.377739',\n",
      "                       'user': 1},\n",
      "                      {'date': '2025-05-26',\n",
      "                       'dose_taken': None,\n",
      "                       'dose_time': 11,\n",
      "                       'dose_unit': '',\n",
      "                       'id': 49,\n",
      "                       'medication': 18,\n",
      "                       'medication_name': 'r432q543',\n",
      "                       'notes': '',\n",
      "                       'taken_status': 'taken',\n",
      "                       'taken_time': None,\n",
      "                       'time': '19:43:43.502863',\n",
      "                       'user': 1},\n",
      "                      {'date': '2025-05-26',\n",
      "                       'dose_taken': None,\n",
      "                       'dose_time': 10,\n",
      "                       'dose_unit': '',\n",
      "                       'id': 48,\n",
      "                       'medication': 17,\n",
      "                       'medication_name': 'r432q543',\n",
      "                       'notes': '',\n",
      "                       'taken_status': 'taken',\n",
      "                       'taken_time': None,\n",
      "                       'time': '19:43:43.203725',\n",
      "                       'user': 1},\n",
      "                      {'date': '2025-05-26',\n",
      "                       'dose_taken': None,\n",
      "                       'dose_time': 8,\n",
      "                       'dose_unit': '',\n",
      "                       'id': 47,\n",
      "                       'medication': 15,\n",
      "                       'medication_name': 'test',\n",
      "                       'notes': '',\n",
      "                       'taken_status': 'taken',\n",
      "                       'taken_time': None,\n",
      "                       'time': '19:43:42.469146',\n",
      "                       'user': 1}]}]\n"
     ]
    }
   ],
   "source": [
    "response = client.get('/medication/medication-logs/?date=today')\n",
    "pprint(response.json())"
   ]
  },
  {
   "cell_type": "code",
   "execution_count": 16,
   "id": "0c293e4d-d4f9-4f69-8891-afe4d0672b27",
   "metadata": {},
   "outputs": [
    {
     "name": "stdout",
     "output_type": "stream",
     "text": [
      "[{'date': '2025-05-24',\n",
      "  'medication_logs': [{'date': '2025-05-24',\n",
      "                       'dose_taken': None,\n",
      "                       'dose_time': 5,\n",
      "                       'dose_unit': '',\n",
      "                       'id': 63,\n",
      "                       'medication': 8,\n",
      "                       'medication_name': '12',\n",
      "                       'notes': '',\n",
      "                       'taken_status': 'taken',\n",
      "                       'taken_time': '20:25:01',\n",
      "                       'time': '20:25:00',\n",
      "                       'user': 1}]},\n",
      " {'date': '2025-05-26',\n",
      "  'medication_logs': [{'date': '2025-05-26',\n",
      "                       'dose_taken': None,\n",
      "                       'dose_time': 4,\n",
      "                       'dose_unit': '',\n",
      "                       'id': 62,\n",
      "                       'medication': 10,\n",
      "                       'medication_name': 'Parol 500 Mg 20 Tb',\n",
      "                       'notes': '',\n",
      "                       'taken_status': 'taken',\n",
      "                       'taken_time': None,\n",
      "                       'time': '19:46:42.520032',\n",
      "                       'user': 1},\n",
      "                      {'date': '2025-05-26',\n",
      "                       'dose_taken': None,\n",
      "                       'dose_time': 14,\n",
      "                       'dose_unit': '',\n",
      "                       'id': 61,\n",
      "                       'medication': 21,\n",
      "                       'medication_name': 'r432q543',\n",
      "                       'notes': '',\n",
      "                       'taken_status': 'taken',\n",
      "                       'taken_time': None,\n",
      "                       'time': '19:46:42.079491',\n",
      "                       'user': 1},\n",
      "                      {'date': '2025-05-26',\n",
      "                       'dose_taken': None,\n",
      "                       'dose_time': 7,\n",
      "                       'dose_unit': '',\n",
      "                       'id': 60,\n",
      "                       'medication': 13,\n",
      "                       'medication_name': 'test',\n",
      "                       'notes': '',\n",
      "                       'taken_status': 'taken',\n",
      "                       'taken_time': None,\n",
      "                       'time': '19:46:41.540161',\n",
      "                       'user': 1},\n",
      "                      {'date': '2025-05-26',\n",
      "                       'dose_taken': None,\n",
      "                       'dose_time': None,\n",
      "                       'dose_unit': '',\n",
      "                       'id': 59,\n",
      "                       'medication': 14,\n",
      "                       'medication_name': 'Abilify Maintena 400 Mg Uzun '\n",
      "                                          'Salimli Im Enjeksiyonluk 1 Flakon',\n",
      "                       'notes': '',\n",
      "                       'taken_status': 'taken',\n",
      "                       'taken_time': None,\n",
      "                       'time': '19:44:02.329137',\n",
      "                       'user': 1},\n",
      "                      {'date': '2025-05-26',\n",
      "                       'dose_taken': None,\n",
      "                       'dose_time': None,\n",
      "                       'dose_unit': '',\n",
      "                       'id': 58,\n",
      "                       'medication': 14,\n",
      "                       'medication_name': 'Abilify Maintena 400 Mg Uzun '\n",
      "                                          'Salimli Im Enjeksiyonluk 1 Flakon',\n",
      "                       'notes': '',\n",
      "                       'taken_status': 'taken',\n",
      "                       'taken_time': None,\n",
      "                       'time': '19:44:02.190005',\n",
      "                       'user': 1},\n",
      "                      {'date': '2025-05-26',\n",
      "                       'dose_taken': None,\n",
      "                       'dose_time': 13,\n",
      "                       'dose_unit': '',\n",
      "                       'id': 53,\n",
      "                       'medication': 20,\n",
      "                       'medication_name': 'r432q543',\n",
      "                       'notes': '',\n",
      "                       'taken_status': 'pass',\n",
      "                       'taken_time': None,\n",
      "                       'time': '19:43:47.460940',\n",
      "                       'user': 1},\n",
      "                      {'date': '2025-05-26',\n",
      "                       'dose_taken': None,\n",
      "                       'dose_time': 5,\n",
      "                       'dose_unit': '',\n",
      "                       'id': 52,\n",
      "                       'medication': 11,\n",
      "                       'medication_name': 'Esom 40 Mg 28 Enterik Kapli '\n",
      "                                          'Mikropellet Kap',\n",
      "                       'notes': '',\n",
      "                       'taken_status': 'pass',\n",
      "                       'taken_time': None,\n",
      "                       'time': '19:43:46.946006',\n",
      "                       'user': 1},\n",
      "                      {'date': '2025-05-26',\n",
      "                       'dose_taken': None,\n",
      "                       'dose_time': 15,\n",
      "                       'dose_unit': '',\n",
      "                       'id': 51,\n",
      "                       'medication': 22,\n",
      "                       'medication_name': 'r432q543',\n",
      "                       'notes': '',\n",
      "                       'taken_status': 'pass',\n",
      "                       'taken_time': None,\n",
      "                       'time': '19:43:45.458120',\n",
      "                       'user': 1},\n",
      "                      {'date': '2025-05-26',\n",
      "                       'dose_taken': None,\n",
      "                       'dose_time': 12,\n",
      "                       'dose_unit': '',\n",
      "                       'id': 50,\n",
      "                       'medication': 19,\n",
      "                       'medication_name': 'r432q543',\n",
      "                       'notes': '',\n",
      "                       'taken_status': 'pass',\n",
      "                       'taken_time': None,\n",
      "                       'time': '19:43:44.377739',\n",
      "                       'user': 1},\n",
      "                      {'date': '2025-05-26',\n",
      "                       'dose_taken': None,\n",
      "                       'dose_time': 11,\n",
      "                       'dose_unit': '',\n",
      "                       'id': 49,\n",
      "                       'medication': 18,\n",
      "                       'medication_name': 'r432q543',\n",
      "                       'notes': '',\n",
      "                       'taken_status': 'taken',\n",
      "                       'taken_time': None,\n",
      "                       'time': '19:43:43.502863',\n",
      "                       'user': 1},\n",
      "                      {'date': '2025-05-26',\n",
      "                       'dose_taken': None,\n",
      "                       'dose_time': 10,\n",
      "                       'dose_unit': '',\n",
      "                       'id': 48,\n",
      "                       'medication': 17,\n",
      "                       'medication_name': 'r432q543',\n",
      "                       'notes': '',\n",
      "                       'taken_status': 'taken',\n",
      "                       'taken_time': None,\n",
      "                       'time': '19:43:43.203725',\n",
      "                       'user': 1},\n",
      "                      {'date': '2025-05-26',\n",
      "                       'dose_taken': None,\n",
      "                       'dose_time': 8,\n",
      "                       'dose_unit': '',\n",
      "                       'id': 47,\n",
      "                       'medication': 15,\n",
      "                       'medication_name': 'test',\n",
      "                       'notes': '',\n",
      "                       'taken_status': 'taken',\n",
      "                       'taken_time': None,\n",
      "                       'time': '19:43:42.469146',\n",
      "                       'user': 1}]}]\n"
     ]
    }
   ],
   "source": [
    "\n",
    "response = client.get('/medication/medication-logs/?date=month&ordering=date')\n",
    "pprint(response.json())"
   ]
  },
  {
   "cell_type": "code",
   "execution_count": null,
   "id": "926afcfc-e458-495e-8fc0-1cca98255597",
   "metadata": {},
   "outputs": [],
   "source": []
  },
  {
   "cell_type": "markdown",
   "id": "64b00710-20f0-4c8f-82a5-580d84ed3a53",
   "metadata": {},
   "source": [
    "## İlaç kaydı oluşturma"
   ]
  },
  {
   "cell_type": "code",
   "execution_count": 42,
   "id": "3fd18e8d-55f7-40fb-898f-a16cddf43851",
   "metadata": {},
   "outputs": [
    {
     "name": "stdout",
     "output_type": "stream",
     "text": [
      "400\n",
      "('{\"start_date\":[\"This field is required.\"],\"medication\":[\"This field is '\n",
      " 'required.\"]}')\n"
     ]
    }
   ],
   "source": [
    "response = client.post('/medication/medication-schedules/')\n",
    "pprint(response.status_code)\n",
    "pprint(response.text)"
   ]
  },
  {
   "cell_type": "code",
   "execution_count": 17,
   "id": "a9c18192-ff2a-4478-a061-c37c99a632f5",
   "metadata": {
    "scrolled": true
   },
   "outputs": [
    {
     "name": "stdout",
     "output_type": "stream",
     "text": [
      "201\n",
      "'{\"id\":4,\"name\":\"pars\",\"is_active\":true,\"default_dose_amount\":\"2.00\",\"default_dose_unit\":\"mililitre\",\"schedules\":[{\"start_date\":\"2025-04-12\",\"end_date\":\"2025-05-13\",\"frequency\":\"daily\",\"interval\":1,\"days_of_week\":[1,2,3,4,5,6,7],\"day_of_month\":0,\"doses_per_period\":3,\"dose_amount\":\"2.00\",\"dose_unit\":\"mg\"}]}'\n"
     ]
    }
   ],
   "source": [
    "response = client.post('/medication/medications/create/', json={\n",
    "    \"id\": 1,\n",
    "    \"name\": \"pars\",\n",
    "    \"is_active\": True,\n",
    "    \"default_dose_amount\": \"1.00\",\n",
    "    \"default_dose_unit\": \"mg\",\n",
    "    \"schedules\": [\n",
    "            {\n",
    "                \"start_date\": \"2025-04-12\",\n",
    "                \"end_date\": \"2025-05-13\",\n",
    "                \"frequency\": \"daily\",\n",
    "                \"interval\": 1,\n",
    "                \"day_of_month\": 0,\n",
    "                \"doses_per_period\": 3,\n",
    "                \"dose_amount\": \"2.00\",\n",
    "                \"dose_unit\": \"mg\",\n",
    "                \"dose_times\": [\n",
    "                    {\"time\":\"10:30\", \"dose_amount\":12, \"dose_unit\": \"mg\"},\n",
    "                    {\"time\":\"10:40\", \"dose_amount\":12, \"dose_unit\": \"mg\"},\n",
    "                ],\n",
    "                \"days_of_week\": list(range(1, 7 + 1)),\n",
    "\n",
    "            }\n",
    "    ],\n",
    "    \"default_dose_amount\": 2,\n",
    "    \"default_dose_unit\": \"mililitre\", \n",
    "})\n",
    "pprint(response.status_code)\n",
    "pprint(response.text)"
   ]
  },
  {
   "cell_type": "markdown",
   "id": "d1f39b52-42bf-47c9-816c-a75c2c576604",
   "metadata": {},
   "source": [
    "## PLANSIZ - İlaç kaydı oluşturma"
   ]
  },
  {
   "cell_type": "code",
   "execution_count": 18,
   "id": "0a530de7-31e7-406b-acc8-b2e89395c7e7",
   "metadata": {},
   "outputs": [
    {
     "name": "stdout",
     "output_type": "stream",
     "text": [
      "201\n",
      "'{\"id\":5,\"name\":\"pars\",\"is_active\":true,\"default_dose_amount\":\"2.00\",\"default_dose_unit\":\"mililitre\",\"schedules\":[]}'\n"
     ]
    }
   ],
   "source": [
    "response = client.post('/medication/medications/create/', json={\n",
    "    \"id\": 1,\n",
    "    \"name\": \"pars\",\n",
    "    \"is_active\": True,\n",
    "    \"default_dose_amount\": \"1.00\",\n",
    "    \"default_dose_unit\": \"mg\",\n",
    "    \"schedules\": [\n",
    "            \n",
    "    ],\n",
    "    \"default_dose_amount\": 2,\n",
    "    \"default_dose_unit\": \"mililitre\", \n",
    "})\n",
    "pprint(response.status_code)\n",
    "pprint(response.text)"
   ]
  },
  {
   "cell_type": "code",
   "execution_count": 8,
   "id": "caf5f542-eca2-49ed-95df-49c6d3fcde69",
   "metadata": {
    "scrolled": true
   },
   "outputs": [
    {
     "data": {
      "text/plain": [
       "'{\"detail\":\"No Medication matches the given query.\"}'"
      ]
     },
     "execution_count": 8,
     "metadata": {},
     "output_type": "execute_result"
    }
   ],
   "source": [
    "response = client.delete('/medication/medications/1/')\n",
    "response.text"
   ]
  },
  {
   "cell_type": "code",
   "execution_count": null,
   "id": "ab4ed9e1-8a65-45e6-9954-3e91bd15d336",
   "metadata": {},
   "outputs": [],
   "source": [
    "for dep in deps.split('\\n'):\n",
    "    print(dep.split('==')[0])"
   ]
  },
  {
   "cell_type": "code",
   "execution_count": null,
   "id": "11061e7d-295a-42c7-832c-d11344c34410",
   "metadata": {},
   "outputs": [],
   "source": []
  },
  {
   "cell_type": "markdown",
   "id": "928dccae-c940-49be-9caa-b2793ca5b7da",
   "metadata": {},
   "source": [
    "# Sayaçlar"
   ]
  },
  {
   "cell_type": "markdown",
   "id": "7565298b-4fdc-4b63-b95a-a762954aa42c",
   "metadata": {},
   "source": [
    "## sayaç listele"
   ]
  },
  {
   "cell_type": "code",
   "execution_count": 79,
   "id": "83316b83-00a9-400c-8200-4a1455330021",
   "metadata": {},
   "outputs": [
    {
     "name": "stdout",
     "output_type": "stream",
     "text": [
      "[{'count': 0, 'name': 'İhtiyaç', 'unit': 'Kez'},\n",
      " {'count': 0, 'name': 'İhtiyaç', 'unit': 'Kez'},\n",
      " {'count': 0, 'name': 'İhtiyaç', 'unit': 'Kez'},\n",
      " {'count': 3, 'name': 'İhtiyaç', 'unit': 'Kez'},\n",
      " {'count': 0, 'name': 'İhtiyaç', 'unit': 'Tane'},\n",
      " {'count': 0, 'name': 'İhtiyaç', 'unit': 'Kez'},\n",
      " {'count': -1, 'name': 'İhtiyaç', 'unit': 'Kez'}]\n"
     ]
    }
   ],
   "source": [
    "response = client.get('/counter/')\n",
    "pprint(response.json())"
   ]
  },
  {
   "cell_type": "markdown",
   "id": "73733a35-2b8c-416c-b18d-33abb26bfe7f",
   "metadata": {},
   "source": [
    "## sayaç ekle"
   ]
  },
  {
   "cell_type": "code",
   "execution_count": 78,
   "id": "70375cc0-48e1-4df6-8b01-baf0dfa05062",
   "metadata": {},
   "outputs": [
    {
     "data": {
      "text/plain": [
       "'{\"name\":\"İhtiyaç\",\"unit\":\"Tane\"}'"
      ]
     },
     "execution_count": 78,
     "metadata": {},
     "output_type": "execute_result"
    }
   ],
   "source": [
    "response = client.post('/counter/', json={\n",
    "    \"unit\": \"Tane\",\n",
    "    \"name\": \"İhtiyaç\"\n",
    "})\n",
    "response.text"
   ]
  },
  {
   "cell_type": "markdown",
   "id": "83412fdb-4944-4965-926b-36e501c2fa15",
   "metadata": {},
   "source": [
    "## Sayaç sayma"
   ]
  },
  {
   "cell_type": "code",
   "execution_count": 71,
   "id": "b92a4698-037a-4c5f-9a16-c7878af62ad1",
   "metadata": {},
   "outputs": [
    {
     "data": {
      "text/plain": [
       "'{\"id\":6,\"timestamp\":\"2025-05-25T06:38:46.561977+03:00\",\"value\":-1,\"counter\":1}'"
      ]
     },
     "execution_count": 71,
     "metadata": {},
     "output_type": "execute_result"
    }
   ],
   "source": [
    "counter_id = 1\n",
    "response = client.post(f'/counter/tick/', json={\n",
    "    \"counter\": counter_id,\n",
    "    \"unit\": \"Kez\",\n",
    "    \"name\": \"İhtiyaç\",\n",
    "    \"value\": -1 # terse >\n",
    "})\n",
    "response.text"
   ]
  },
  {
   "cell_type": "code",
   "execution_count": null,
   "id": "e890fb66-3d36-4b2b-bed6-f36327abb57e",
   "metadata": {},
   "outputs": [],
   "source": []
  }
 ],
 "metadata": {
  "kernelspec": {
   "display_name": "Python 3 (ipykernel)",
   "language": "python",
   "name": "python3"
  },
  "language_info": {
   "codemirror_mode": {
    "name": "ipython",
    "version": 3
   },
   "file_extension": ".py",
   "mimetype": "text/x-python",
   "name": "python",
   "nbconvert_exporter": "python",
   "pygments_lexer": "ipython3",
   "version": "3.12.5"
  }
 },
 "nbformat": 4,
 "nbformat_minor": 5
}
