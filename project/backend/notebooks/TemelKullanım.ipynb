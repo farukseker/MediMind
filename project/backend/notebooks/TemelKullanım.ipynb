{
 "cells": [
  {
   "cell_type": "markdown",
   "id": "05f3268c-5110-4385-b87e-35725f277dff",
   "metadata": {},
   "source": [
    "# Apı kulanım örnekleri"
   ]
  },
  {
   "cell_type": "code",
   "execution_count": 1,
   "id": "29addf87-560b-459e-aee2-38c0ac36d309",
   "metadata": {},
   "outputs": [],
   "source": [
    "from api_client import AutoJWTClient"
   ]
  },
  {
   "cell_type": "code",
   "execution_count": 2,
   "id": "16294dc3-44cc-4dd9-a82c-49ea76c27bbf",
   "metadata": {},
   "outputs": [],
   "source": [
    "client = AutoJWTClient(\n",
    "    base_url=\"http://192.168.123.97:8000/api\",\n",
    "    login_url=\"/auth/token/\",\n",
    "    email=\"f4rukseker@gmail.com\",\n",
    "    password=\"pars\"\n",
    ")"
   ]
  },
  {
   "cell_type": "code",
   "execution_count": 3,
   "id": "8f12028a-57d5-4eca-a972-457c7e5ff63b",
   "metadata": {},
   "outputs": [],
   "source": [
    "from pprint import pprint"
   ]
  },
  {
   "cell_type": "markdown",
   "id": "b08a04dc-fe9d-4f45-adb8-46d746718f50",
   "metadata": {},
   "source": [
    "## ilaçları görüntülemek için"
   ]
  },
  {
   "cell_type": "code",
   "execution_count": 4,
   "id": "5ff44278-353c-4e6f-84be-d9c92081fb86",
   "metadata": {},
   "outputs": [],
   "source": [
    "response = client.get('/medication/medications/')"
   ]
  },
  {
   "cell_type": "code",
   "execution_count": 5,
   "id": "895839d6-c732-48cf-a79c-85ad1129f820",
   "metadata": {
    "scrolled": true
   },
   "outputs": [
    {
     "name": "stdout",
     "output_type": "stream",
     "text": [
      "[{'default_dose_amount': '1.00',\n",
      "  'default_dose_unit': 'mg',\n",
      "  'id': 1,\n",
      "  'is_active': True,\n",
      "  'name': 'salofalk',\n",
      "  'schedules': [{'created_at': '2025-05-13T18:59:04.331789+03:00',\n",
      "                 'day_of_month': None,\n",
      "                 'days_of_week': [1, 2, 3, 4, 5, 6, 7],\n",
      "                 'dose_amount': '2.00',\n",
      "                 'dose_unit': 'mg',\n",
      "                 'doses_per_period': 3,\n",
      "                 'end_date': '2025-05-13',\n",
      "                 'frequency': 'daily',\n",
      "                 'id': 1,\n",
      "                 'interval': 1,\n",
      "                 'medication': 1,\n",
      "                 'start_date': '2025-05-12',\n",
      "                 'updated_at': '2025-05-14T11:12:39.852486+03:00'},\n",
      "                {'created_at': '2025-05-14T11:12:58.635000+03:00',\n",
      "                 'day_of_month': 1,\n",
      "                 'days_of_week': [1, 2, 3, 4, 5, 6, 7],\n",
      "                 'dose_amount': '34.00',\n",
      "                 'dose_unit': 'mg',\n",
      "                 'doses_per_period': 3,\n",
      "                 'end_date': '2025-05-20',\n",
      "                 'frequency': 'daily',\n",
      "                 'id': 2,\n",
      "                 'interval': 1,\n",
      "                 'medication': 1,\n",
      "                 'start_date': '2025-05-14',\n",
      "                 'updated_at': '2025-05-14T11:13:39.295109+03:00'}]},\n",
      " {'default_dose_amount': '12.00',\n",
      "  'default_dose_unit': 'mg',\n",
      "  'id': 2,\n",
      "  'is_active': True,\n",
      "  'name': 'Şeker',\n",
      "  'schedules': []}]\n"
     ]
    }
   ],
   "source": [
    "pprint(response.json())"
   ]
  },
  {
   "cell_type": "markdown",
   "id": "bf866cf3-334f-48d0-9415-7d62e48a4c16",
   "metadata": {},
   "source": [
    "## Spesifik bir ilacı görüntülemek için"
   ]
  },
  {
   "cell_type": "code",
   "execution_count": 12,
   "id": "71e40a23-9eca-4822-b191-52b671cede31",
   "metadata": {},
   "outputs": [
    {
     "data": {
      "text/plain": [
       "'{\"id\":1,\"name\":\"salofalk\",\"is_active\":true,\"default_dose_amount\":\"1.00\",\"default_dose_unit\":\"mg\",\"schedules\":[{\"id\":1,\"start_date\":\"2025-05-13\",\"end_date\":\"2025-05-20\",\"frequency\":\"daily\",\"interval\":2,\"day_of_month\":null,\"doses_per_period\":3,\"dose_amount\":\"2.00\",\"dose_unit\":\"mg\",\"created_at\":\"2025-05-13T18:59:04.331789+03:00\",\"updated_at\":\"2025-05-13T18:59:04.331789+03:00\",\"medication\":1,\"days_of_week\":[1,2,3,4,5,6,7]}]}'"
      ]
     },
     "execution_count": 12,
     "metadata": {},
     "output_type": "execute_result"
    }
   ],
   "source": [
    "medication_id: int = 1\n",
    "response = client.get(f'/medication/medications/{medication_id}/')\n",
    "response.text"
   ]
  },
  {
   "cell_type": "markdown",
   "id": "6077d211-a0e9-4cae-9833-f5f809e44986",
   "metadata": {},
   "source": [
    "## planlama"
   ]
  },
  {
   "cell_type": "code",
   "execution_count": 33,
   "id": "efc03fd9-3a2b-413c-a64c-e7e9ca955f7c",
   "metadata": {},
   "outputs": [
    {
     "data": {
      "text/plain": [
       "'[{\"id\":1,\"start_date\":\"2025-05-12\",\"end_date\":\"2025-05-13\",\"frequency\":\"daily\",\"interval\":1,\"day_of_month\":null,\"doses_per_period\":3,\"dose_amount\":\"2.00\",\"dose_unit\":\"mg\",\"created_at\":\"2025-05-13T18:59:04.331789+03:00\",\"updated_at\":\"2025-05-14T11:12:39.852486+03:00\",\"medication\":1,\"days_of_week\":[1,2,3,4,5,6,7]},{\"id\":2,\"start_date\":\"2025-05-14\",\"end_date\":\"2025-05-20\",\"frequency\":\"daily\",\"interval\":1,\"day_of_month\":1,\"doses_per_period\":2,\"dose_amount\":\"34.00\",\"dose_unit\":\"mg\",\"created_at\":\"2025-05-14T11:12:58.635000+03:00\",\"updated_at\":\"2025-05-14T18:02:37.913481+03:00\",\"medication\":1,\"days_of_week\":[1,2,3,4,5,6,7]}]'"
      ]
     },
     "execution_count": 33,
     "metadata": {},
     "output_type": "execute_result"
    }
   ],
   "source": [
    "response = client.get('/medication/medication-schedules')\n",
    "response.text"
   ]
  },
  {
   "cell_type": "markdown",
   "id": "d3a0fcf3-2d5c-4ddd-a4c5-b03ec07430f4",
   "metadata": {},
   "source": [
    "## Bugün hangi ilaçları alıcak"
   ]
  },
  {
   "cell_type": "code",
   "execution_count": 72,
   "id": "d270b61a-bf07-4290-a418-d4854912e546",
   "metadata": {
    "scrolled": true
   },
   "outputs": [
    {
     "name": "stdout",
     "output_type": "stream",
     "text": [
      "[]\n"
     ]
    }
   ],
   "source": [
    "response = client.get('/medication/today/')\n",
    "pprint(response.json())"
   ]
  },
  {
   "cell_type": "code",
   "execution_count": 66,
   "id": "c55f28ad-3ad3-4eda-9936-4162deb688aa",
   "metadata": {},
   "outputs": [],
   "source": [
    "## Ilaç Almak"
   ]
  },
  {
   "cell_type": "code",
   "execution_count": 71,
   "id": "0deacf7a-5b04-4380-b848-2763e75b88c8",
   "metadata": {
    "scrolled": true
   },
   "outputs": [
    {
     "data": {
      "text/plain": [
       "'{\"id\":24,\"taken_time\":null,\"taken_status\":\"pass\",\"dose_taken\":null,\"dose_unit\":\"\",\"notes\":\"\",\"medication\":2,\"dose_time\":2}'"
      ]
     },
     "execution_count": 71,
     "metadata": {},
     "output_type": "execute_result"
    }
   ],
   "source": [
    "response = client.post('/medication/medication-logs/', data={\n",
    "    \"medication\": 2,\n",
    "    \"dose\": 1,\n",
    "    \"taken_status\": 'pass',\n",
    "    \"dose_time\": 2\n",
    "})\n",
    "response.text\n"
   ]
  },
  {
   "cell_type": "code",
   "execution_count": 74,
   "id": "509c445f-f580-4674-935a-9956eee49b69",
   "metadata": {},
   "outputs": [
    {
     "name": "stdout",
     "output_type": "stream",
     "text": [
      "[{'dose_taken': None,\n",
      "  'dose_time': 2,\n",
      "  'dose_unit': '',\n",
      "  'id': 24,\n",
      "  'medication': 2,\n",
      "  'notes': '',\n",
      "  'taken_status': 'pass',\n",
      "  'taken_time': None},\n",
      " {'dose_taken': None,\n",
      "  'dose_time': 2,\n",
      "  'dose_unit': '',\n",
      "  'id': 23,\n",
      "  'medication': 2,\n",
      "  'notes': '',\n",
      "  'taken_status': 'pass',\n",
      "  'taken_time': None},\n",
      " {'dose_taken': None,\n",
      "  'dose_time': 2,\n",
      "  'dose_unit': '',\n",
      "  'id': 22,\n",
      "  'medication': 1,\n",
      "  'notes': '',\n",
      "  'taken_status': 'pass',\n",
      "  'taken_time': None},\n",
      " {'dose_taken': None,\n",
      "  'dose_time': 1,\n",
      "  'dose_unit': '',\n",
      "  'id': 21,\n",
      "  'medication': 1,\n",
      "  'notes': '',\n",
      "  'taken_status': 'taken',\n",
      "  'taken_time': None}]\n"
     ]
    }
   ],
   "source": [
    "response = client.get('/medication/medication-logs/')\n",
    "pprint(response.json())"
   ]
  },
  {
   "cell_type": "code",
   "execution_count": null,
   "id": "926afcfc-e458-495e-8fc0-1cca98255597",
   "metadata": {},
   "outputs": [],
   "source": []
  }
 ],
 "metadata": {
  "kernelspec": {
   "display_name": "Python 3 (ipykernel)",
   "language": "python",
   "name": "python3"
  },
  "language_info": {
   "codemirror_mode": {
    "name": "ipython",
    "version": 3
   },
   "file_extension": ".py",
   "mimetype": "text/x-python",
   "name": "python",
   "nbconvert_exporter": "python",
   "pygments_lexer": "ipython3",
   "version": "3.12.5"
  }
 },
 "nbformat": 4,
 "nbformat_minor": 5
}
