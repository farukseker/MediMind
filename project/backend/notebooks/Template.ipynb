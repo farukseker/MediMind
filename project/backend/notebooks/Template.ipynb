{
 "cells": [
  {
   "cell_type": "code",
   "execution_count": 7,
   "id": "584a4596-2ee0-48ac-a5c6-c957c9e3918d",
   "metadata": {},
   "outputs": [],
   "source": [
    "!cd C:\\Users\\seker\\Desktop\\prod\\uk_ile_savas\\project\\backend"
   ]
  },
  {
   "cell_type": "code",
   "execution_count": 10,
   "id": "836b69a4-f829-45fc-ae82-5ba037de0232",
   "metadata": {},
   "outputs": [],
   "source": [
    "import os"
   ]
  },
  {
   "cell_type": "code",
   "execution_count": 20,
   "id": "2fe9fd71-7092-46ba-a680-d9271c294605",
   "metadata": {},
   "outputs": [],
   "source": [
    "os.environ[\"DJANGO_ALLOW_ASYNC_UNSAFE\"] = 'true'"
   ]
  },
  {
   "cell_type": "code",
   "execution_count": 15,
   "id": "899f7aec-5240-4731-8362-a99b4269035c",
   "metadata": {
    "scrolled": true
   },
   "outputs": [
    {
     "name": "stdout",
     "output_type": "stream",
     "text": [
      "Requirement already satisfied: django-allauth[socialaccount] in c:\\users\\seker\\desktop\\prod\\uk_ile_savas\\project\\backend\\.venv\\lib\\site-packages (65.8.0)\n",
      "Requirement already satisfied: Django>=4.2.16 in c:\\users\\seker\\desktop\\prod\\uk_ile_savas\\project\\backend\\.venv\\lib\\site-packages (from django-allauth[socialaccount]) (5.2.1)\n",
      "Requirement already satisfied: asgiref>=3.8.1 in c:\\users\\seker\\desktop\\prod\\uk_ile_savas\\project\\backend\\.venv\\lib\\site-packages (from django-allauth[socialaccount]) (3.8.1)\n",
      "Collecting requests-oauthlib>=0.3.0 (from django-allauth[socialaccount])\n",
      "  Downloading requests_oauthlib-2.0.0-py2.py3-none-any.whl.metadata (11 kB)\n",
      "Requirement already satisfied: requests>=2.0.0 in c:\\users\\seker\\desktop\\prod\\uk_ile_savas\\project\\backend\\.venv\\lib\\site-packages (from django-allauth[socialaccount]) (2.32.3)\n",
      "Requirement already satisfied: pyjwt>=1.7 in c:\\users\\seker\\desktop\\prod\\uk_ile_savas\\project\\backend\\.venv\\lib\\site-packages (from pyjwt[crypto]>=1.7; extra == \"socialaccount\"->django-allauth[socialaccount]) (2.9.0)\n",
      "Requirement already satisfied: sqlparse>=0.3.1 in c:\\users\\seker\\desktop\\prod\\uk_ile_savas\\project\\backend\\.venv\\lib\\site-packages (from Django>=4.2.16->django-allauth[socialaccount]) (0.5.3)\n",
      "Requirement already satisfied: tzdata in c:\\users\\seker\\desktop\\prod\\uk_ile_savas\\project\\backend\\.venv\\lib\\site-packages (from Django>=4.2.16->django-allauth[socialaccount]) (2025.2)\n",
      "Collecting cryptography>=3.4.0 (from pyjwt[crypto]>=1.7; extra == \"socialaccount\"->django-allauth[socialaccount])\n",
      "  Using cached cryptography-44.0.3-cp39-abi3-win_amd64.whl.metadata (5.7 kB)\n",
      "Requirement already satisfied: charset-normalizer<4,>=2 in c:\\users\\seker\\desktop\\prod\\uk_ile_savas\\project\\backend\\.venv\\lib\\site-packages (from requests>=2.0.0->django-allauth[socialaccount]) (3.4.2)\n",
      "Requirement already satisfied: idna<4,>=2.5 in c:\\users\\seker\\desktop\\prod\\uk_ile_savas\\project\\backend\\.venv\\lib\\site-packages (from requests>=2.0.0->django-allauth[socialaccount]) (3.10)\n",
      "Requirement already satisfied: urllib3<3,>=1.21.1 in c:\\users\\seker\\desktop\\prod\\uk_ile_savas\\project\\backend\\.venv\\lib\\site-packages (from requests>=2.0.0->django-allauth[socialaccount]) (2.4.0)\n",
      "Requirement already satisfied: certifi>=2017.4.17 in c:\\users\\seker\\desktop\\prod\\uk_ile_savas\\project\\backend\\.venv\\lib\\site-packages (from requests>=2.0.0->django-allauth[socialaccount]) (2025.4.26)\n",
      "Collecting oauthlib>=3.0.0 (from requests-oauthlib>=0.3.0->django-allauth[socialaccount])\n",
      "  Downloading oauthlib-3.2.2-py3-none-any.whl.metadata (7.5 kB)\n",
      "Requirement already satisfied: cffi>=1.12 in c:\\users\\seker\\desktop\\prod\\uk_ile_savas\\project\\backend\\.venv\\lib\\site-packages (from cryptography>=3.4.0->pyjwt[crypto]>=1.7; extra == \"socialaccount\"->django-allauth[socialaccount]) (1.17.1)\n",
      "Requirement already satisfied: pycparser in c:\\users\\seker\\desktop\\prod\\uk_ile_savas\\project\\backend\\.venv\\lib\\site-packages (from cffi>=1.12->cryptography>=3.4.0->pyjwt[crypto]>=1.7; extra == \"socialaccount\"->django-allauth[socialaccount]) (2.22)\n",
      "Downloading requests_oauthlib-2.0.0-py2.py3-none-any.whl (24 kB)\n",
      "Using cached cryptography-44.0.3-cp39-abi3-win_amd64.whl (3.2 MB)\n",
      "Downloading oauthlib-3.2.2-py3-none-any.whl (151 kB)\n",
      "Installing collected packages: oauthlib, requests-oauthlib, cryptography\n",
      "Successfully installed cryptography-44.0.3 oauthlib-3.2.2 requests-oauthlib-2.0.0\n"
     ]
    },
    {
     "name": "stderr",
     "output_type": "stream",
     "text": [
      "\n",
      "[notice] A new release of pip is available: 25.0.1 -> 25.1.1\n",
      "[notice] To update, run: python.exe -m pip install --upgrade pip\n"
     ]
    }
   ],
   "source": [
    "!pip install \"django-allauth[socialaccount]\""
   ]
  },
  {
   "cell_type": "code",
   "execution_count": 12,
   "id": "f7d36ae2-726d-4d6f-a734-ed808dc94f3d",
   "metadata": {},
   "outputs": [],
   "source": []
  },
  {
   "cell_type": "code",
   "execution_count": 1,
   "id": "ff67ddf2-6391-4de0-8f74-d7194130af82",
   "metadata": {},
   "outputs": [],
   "source": [
    "# ipykarnel seçilecek (kayıtlı olması da gerekli)\n",
    "import django\n",
    "import os\n",
    "import sys\n",
    "os.chdir(os.path.abspath(\"..\"))\n",
    "sys.path.append(os.path.abspath(\"..\"))\n",
    "sys.path.append(os.path.abspath(\"../\"))\n",
    "# if not django.apps.apps.ready:\n",
    "os.environ.setdefault(\"DJANGO_SETTINGS_MODULE\", \"config.settings.develop\")\n",
    "os.environ['DJANGO_SETTINGS_MODULE'] = 'config.settings.develop'"
   ]
  },
  {
   "cell_type": "code",
   "execution_count": 2,
   "id": "e61474ab-342f-4be9-9b6e-b202be2416b0",
   "metadata": {},
   "outputs": [
    {
     "name": "stdout",
     "output_type": "stream",
     "text": [
      "C:\\Users\\seker\\Desktop\\prod\\uk_ile_savas\\project\\backend\n"
     ]
    }
   ],
   "source": [
    "from config.settings.base import BASE_DIR\n",
    "print(BASE_DIR)"
   ]
  },
  {
   "cell_type": "code",
   "execution_count": 3,
   "id": "6527f5f8-6fc5-4054-9059-4997e083159b",
   "metadata": {
    "scrolled": true
   },
   "outputs": [],
   "source": [
    "django.setup()"
   ]
  },
  {
   "cell_type": "code",
   "execution_count": 25,
   "id": "ae6f7233-b786-4738-b7c2-06949b9731f0",
   "metadata": {},
   "outputs": [],
   "source": [
    "import logging\n",
    "logger = logging.getLogger('django.db.backends')\n",
    "logger.setLevel(logging.DEBUG)\n",
    "logger.addHandler(logging.StreamHandler())\n"
   ]
  },
  {
   "cell_type": "code",
   "execution_count": 17,
   "id": "86d9f4ac-5773-4c7a-aa96-dfc82f84d214",
   "metadata": {
    "scrolled": true
   },
   "outputs": [],
   "source": [
    "from medication.models import (\n",
    "WeekDay,\n",
    "Medication,\n",
    "MedicationSchedule,\n",
    "MedicationLog,\n",
    "DailyNote,\n",
    "MedicationDoseTime,\n",
    ")\n"
   ]
  },
  {
   "cell_type": "code",
   "execution_count": 21,
   "id": "c972f26a-4132-4451-93ab-9df5a3716781",
   "metadata": {},
   "outputs": [
    {
     "data": {
      "text/plain": [
       "<QuerySet []>"
      ]
     },
     "execution_count": 21,
     "metadata": {},
     "output_type": "execute_result"
    }
   ],
   "source": [
    "Medication.objects.all()"
   ]
  },
  {
   "cell_type": "code",
   "execution_count": null,
   "id": "44bfb152-d814-40f6-901e-af89f29ab237",
   "metadata": {},
   "outputs": [],
   "source": []
  }
 ],
 "metadata": {
  "kernelspec": {
   "display_name": "Python 3 (ipykernel)",
   "language": "python",
   "name": "python3"
  },
  "language_info": {
   "codemirror_mode": {
    "name": "ipython",
    "version": 3
   },
   "file_extension": ".py",
   "mimetype": "text/x-python",
   "name": "python",
   "nbconvert_exporter": "python",
   "pygments_lexer": "ipython3",
   "version": "3.12.5"
  }
 },
 "nbformat": 4,
 "nbformat_minor": 5
}
