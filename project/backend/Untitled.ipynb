{
 "cells": [
  {
   "cell_type": "code",
   "execution_count": 2,
   "id": "ff67ddf2-6391-4de0-8f74-d7194130af82",
   "metadata": {},
   "outputs": [
    {
     "name": "stdout",
     "output_type": "stream",
     "text": [
      "Requirement already satisfied: django in c:\\users\\seker\\appdata\\local\\pypoetry\\cache\\virtualenvs\\django-development-templates-7fzaerko-py3.12\\lib\\site-packages (5.2.1)\n",
      "Requirement already satisfied: asgiref>=3.8.1 in c:\\users\\seker\\appdata\\local\\pypoetry\\cache\\virtualenvs\\django-development-templates-7fzaerko-py3.12\\lib\\site-packages (from django) (3.8.1)\n",
      "Requirement already satisfied: sqlparse>=0.3.1 in c:\\users\\seker\\appdata\\local\\pypoetry\\cache\\virtualenvs\\django-development-templates-7fzaerko-py3.12\\lib\\site-packages (from django) (0.5.3)\n",
      "Requirement already satisfied: tzdata in c:\\users\\seker\\appdata\\local\\pypoetry\\cache\\virtualenvs\\django-development-templates-7fzaerko-py3.12\\lib\\site-packages (from django) (2025.2)\n"
     ]
    },
    {
     "name": "stderr",
     "output_type": "stream",
     "text": [
      "\n",
      "[notice] A new release of pip is available: 25.0.1 -> 25.1.1\n",
      "[notice] To update, run: python.exe -m pip install --upgrade pip\n"
     ]
    }
   ],
   "source": [
    "!pip install django\n",
    "import os\n",
    "import django\n",
    "\n",
    "os.environ.setdefault(\"DJANGO_SETTINGS_MODULE\", \"config.settings.develop\")  # Proje adını doğru yaz\n",
    "django.setup()\n"
   ]
  },
  {
   "cell_type": "code",
   "execution_count": 3,
   "id": "284bbfa1-8265-41c3-a4da-58e906a7bf87",
   "metadata": {},
   "outputs": [],
   "source": [
    "import os\n",
    "os.environ[\"DJANGO_ALLOW_ASYNC_UNSAFE\"] = 'true'"
   ]
  },
  {
   "cell_type": "code",
   "execution_count": 3,
   "id": "ae6f7233-b786-4738-b7c2-06949b9731f0",
   "metadata": {},
   "outputs": [],
   "source": [
    "import logging\n",
    "logger = logging.getLogger('django.db.backends')\n",
    "logger.setLevel(logging.DEBUG)\n",
    "logger.addHandler(logging.StreamHandler())\n"
   ]
  },
  {
   "cell_type": "code",
   "execution_count": 37,
   "id": "86d9f4ac-5773-4c7a-aa96-dfc82f84d214",
   "metadata": {
    "scrolled": true
   },
   "outputs": [],
   "source": [
    "from medication_management.models import MedicationModel\n",
    "from medication_management.models import MedicationReminderModel\n",
    "from medication_management.models import MedicationUseHistoryModel \n",
    "from medication_management.models import StageSteps\n",
    "from django.db import models"
   ]
  },
  {
   "cell_type": "code",
   "execution_count": 34,
   "id": "6731ee29-1b84-4902-ad76-ce64b2798b1c",
   "metadata": {},
   "outputs": [],
   "source": [
    "from datetime import date, datetime"
   ]
  },
  {
   "cell_type": "code",
   "execution_count": 11,
   "id": "1245d2de-513f-4360-ada3-3ada6c9e7457",
   "metadata": {},
   "outputs": [],
   "source": [
    "mdc = MedicationModel.objects.get(id=2)\n",
    "\n"
   ]
  },
  {
   "cell_type": "code",
   "execution_count": 23,
   "id": "0467be56-47a1-4a23-9b8e-66f35d27dbe8",
   "metadata": {},
   "outputs": [
    {
     "data": {
      "text/plain": [
       "2"
      ]
     },
     "execution_count": 23,
     "metadata": {},
     "output_type": "execute_result"
    }
   ],
   "source": [
    "mdc.reminder.count()"
   ]
  },
  {
   "cell_type": "code",
   "execution_count": 25,
   "id": "6e90a3c6-3b28-456e-90d6-a0ee58ba2c7a",
   "metadata": {},
   "outputs": [
    {
     "data": {
      "text/plain": [
       "1"
      ]
     },
     "execution_count": 25,
     "metadata": {},
     "output_type": "execute_result"
    }
   ],
   "source": [
    "hst_index = mdc.history.count()\n",
    "hst_index"
   ]
  },
  {
   "cell_type": "code",
   "execution_count": 30,
   "id": "d5858405-99cf-4830-a5d6-c90a1fdea0dc",
   "metadata": {},
   "outputs": [],
   "source": [
    "hst_index = mdc.history.count()\n",
    "next_pilss = mdc.reminder.all().order_by('time')[hst_index if hst_index else 0 :]"
   ]
  },
  {
   "cell_type": "code",
   "execution_count": 33,
   "id": "e2001bae-38a2-4863-97c8-26e2ab1db91d",
   "metadata": {},
   "outputs": [
    {
     "data": {
      "text/plain": [
       "datetime.time(23, 59, 54)"
      ]
     },
     "execution_count": 33,
     "metadata": {},
     "output_type": "execute_result"
    }
   ],
   "source": [
    "next_pilss[0].time"
   ]
  },
  {
   "cell_type": "code",
   "execution_count": 35,
   "id": "01fb073f-624d-4f7b-96f3-30fb132acd2a",
   "metadata": {},
   "outputs": [],
   "source": [
    "today = date.today()"
   ]
  },
  {
   "cell_type": "code",
   "execution_count": 38,
   "id": "7db4c4ab-2b8a-4ac5-9da3-fd986f5a09e9",
   "metadata": {},
   "outputs": [],
   "source": [
    "medications = MedicationModel.objects.filter(\n",
    "    # user=user,\n",
    "    start_date__lte=today\n",
    ").filter(\n",
    "    models.Q(end_date__isnull=True) | models.Q(end_date__gte=today)\n",
    ")\n",
    "# implamente edermisin\n",
    "hst_index = medications.history.count()\n",
    "next_pilss = medications.reminder.all().order_by('time')[hst_index if hst_index else 0 :]"
   ]
  },
  {
   "cell_type": "code",
   "execution_count": 39,
   "id": "242c0afd-f096-4295-acd8-a34f3a9e52c6",
   "metadata": {},
   "outputs": [
    {
     "data": {
      "text/plain": [
       "<QuerySet [<MedicationModel: MedicationModel object (2)>]>"
      ]
     },
     "execution_count": 39,
     "metadata": {},
     "output_type": "execute_result"
    }
   ],
   "source": [
    "medications"
   ]
  },
  {
   "cell_type": "code",
   "execution_count": 40,
   "id": "8321d1b9-f2ea-4664-9caf-dc45b5be1fac",
   "metadata": {},
   "outputs": [
    {
     "ename": "AttributeError",
     "evalue": "'QuerySet' object has no attribute 'history'",
     "output_type": "error",
     "traceback": [
      "\u001b[31m---------------------------------------------------------------------------\u001b[39m",
      "\u001b[31mAttributeError\u001b[39m                            Traceback (most recent call last)",
      "\u001b[36mCell\u001b[39m\u001b[36m \u001b[39m\u001b[32mIn[40]\u001b[39m\u001b[32m, line 1\u001b[39m\n\u001b[32m----> \u001b[39m\u001b[32m1\u001b[39m hst_index = \u001b[43mmedications\u001b[49m\u001b[43m.\u001b[49m\u001b[43mhistory\u001b[49m.count()\n\u001b[32m      2\u001b[39m next_pilss = medications.reminder.all().order_by(\u001b[33m'\u001b[39m\u001b[33mtime\u001b[39m\u001b[33m'\u001b[39m)[hst_index \u001b[38;5;28;01mif\u001b[39;00m hst_index \u001b[38;5;28;01melse\u001b[39;00m \u001b[32m0\u001b[39m :]\n",
      "\u001b[31mAttributeError\u001b[39m: 'QuerySet' object has no attribute 'history'"
     ]
    }
   ],
   "source": [
    "hst_index = medications.history.count()\n",
    "next_pilss = medications.reminder.all().order_by('time')[hst_index if hst_index else 0 :]"
   ]
  },
  {
   "cell_type": "code",
   "execution_count": 69,
   "id": "59f4d641-7519-48d8-9782-31b47148e064",
   "metadata": {},
   "outputs": [
    {
     "name": "stdout",
     "output_type": "stream",
     "text": [
      "<QuerySet [<MedicationModel: MedicationModel object (2)>, <MedicationModel: MedicationModel object (1)>]>\n"
     ]
    }
   ],
   "source": [
    "from datetime import date\n",
    "\n",
    "today = date.today()\n",
    "# user = request.user\n",
    "results = []\n",
    "\n",
    "medications = MedicationModel.objects.filter(\n",
    "    # user=user,\n",
    "    start_date__lte=today\n",
    ").filter(\n",
    "    models.Q(end_date__isnull=True) | models.Q(end_date__gte=today)\n",
    ")\n",
    "for med in medications:\n",
    "    history_count = med.history.filter(use_date=today).count()\n",
    "    reminders = med.reminder.all().order_by(\"time\")\n",
    "    next_reminders = reminders[history_count:]\n",
    "    stage = mdc.stages.filter(\n",
    "        range_start_date__lte=today\n",
    "    ).filter(\n",
    "        models.Q(range_end_date__isnull=True) | models.Q(range_end_date__gte=today)\n",
    "    ).first()\n",
    "    for reminder in next_reminders:\n",
    "        results.append({\n",
    "            \"medication_name\": med.name,\n",
    "            \"scheduled_time\": reminder.time,\n",
    "            \"taken_count\": history_count,\n",
    "            \"reminder_total\": reminders.count(),\n",
    "            \"dosage\": stage.unit,\n",
    "            \"dosage_type\": stage.unit_type,\n",
    "        })\n"
   ]
  },
  {
   "cell_type": "code",
   "execution_count": 70,
   "id": "12ae2ac2-8617-4d53-ad25-eeeec471f1c3",
   "metadata": {},
   "outputs": [
    {
     "data": {
      "text/plain": [
       "[{'medication_name': 'test 2',\n",
       "  'scheduled_time': datetime.time(5, 54, 19),\n",
       "  'taken_count': 0,\n",
       "  'reminder_total': 2,\n",
       "  'dosage': 2.0,\n",
       "  'dosage_type': '23'},\n",
       " {'medication_name': 'test 2',\n",
       "  'scheduled_time': datetime.time(20, 59, 54),\n",
       "  'taken_count': 0,\n",
       "  'reminder_total': 2,\n",
       "  'dosage': 2.0,\n",
       "  'dosage_type': '23'},\n",
       " {'medication_name': 'test',\n",
       "  'scheduled_time': datetime.time(6, 54, 38),\n",
       "  'taken_count': 0,\n",
       "  'reminder_total': 1,\n",
       "  'dosage': 2.0,\n",
       "  'dosage_type': '23'}]"
      ]
     },
     "execution_count": 70,
     "metadata": {},
     "output_type": "execute_result"
    }
   ],
   "source": [
    "results"
   ]
  },
  {
   "cell_type": "code",
   "execution_count": 71,
   "id": "a2764fe3-be9c-4cad-b1ec-cd48c55836a2",
   "metadata": {},
   "outputs": [],
   "source": [
    "stage_steps = mdc.stages.filter(\n",
    "    range_start_date__lte=today\n",
    ").filter(\n",
    "    models.Q(range_end_date__isnull=True) | models.Q(range_end_date__gte=today)\n",
    ").first()"
   ]
  },
  {
   "cell_type": "code",
   "execution_count": 54,
   "id": "80ca8beb-0ab1-423b-9c09-48e3568c62bf",
   "metadata": {},
   "outputs": [
    {
     "data": {
      "text/plain": [
       "<StageSteps: StageSteps object (2)>"
      ]
     },
     "execution_count": 54,
     "metadata": {},
     "output_type": "execute_result"
    }
   ],
   "source": [
    "stage_steps"
   ]
  },
  {
   "cell_type": "markdown",
   "id": "5db9e82a-b726-4a36-9d4d-aae7e51c55e5",
   "metadata": {},
   "source": [
    "## almam gereken ilaçları bul \n",
    "bu kod kullanıcnın sadece o gün aldıkları ilaçlar göz önünde bulundurularak geriye kalan alması gereken ilaçları listeler"
   ]
  },
  {
   "cell_type": "code",
   "execution_count": 72,
   "id": "d756a06c-5cca-4886-93fe-0adb182438a9",
   "metadata": {},
   "outputs": [],
   "source": [
    "from datetime import date\n",
    "from django.db.models import Q\n",
    "\n",
    "today = date.today()\n",
    "# user = request.user\n",
    "results = []\n",
    "\n",
    "medications = MedicationModel.objects.filter(\n",
    "    Q(start_date__lte=today) &\n",
    "    Q(end_date__isnull=True) | Q(end_date__gte=today)\n",
    "    # & Q(user=user)\n",
    ").prefetch_related(\"reminder\", \"history\", \"stages\")\n",
    "\n",
    "for med in medications:\n",
    "    history_count = med.history.filter(use_date=today).count()\n",
    "    reminders = sorted(med.reminder.all(), key=lambda r: r.time)\n",
    "    next_reminders = reminders[history_count:]\n",
    "\n",
    "    stage = med.stages.filter(\n",
    "        Q(range_start_date__lte=today) &\n",
    "        (Q(range_end_date__isnull=True) | Q(range_end_date__gte=today))\n",
    "    ).order_by(\"range_start_date\").first()\n",
    "\n",
    "    for reminder in next_reminders:\n",
    "        results.append({\n",
    "            \"medication_name\": med.name,\n",
    "            \"scheduled_time\": reminder.time,\n",
    "            \"taken_count\": history_count,\n",
    "            \"reminder_total\": len(reminders),\n",
    "            \"dosage\": stage.unit if stage else None,\n",
    "            \"dosage_type\": stage.unit_type if stage else None,\n",
    "        })\n"
   ]
  },
  {
   "cell_type": "code",
   "execution_count": 73,
   "id": "b6d26979-424a-4698-aab4-ad082a494192",
   "metadata": {},
   "outputs": [
    {
     "data": {
      "text/plain": [
       "[{'medication_name': 'test 2',\n",
       "  'scheduled_time': datetime.time(5, 54, 19),\n",
       "  'taken_count': 0,\n",
       "  'reminder_total': 2,\n",
       "  'dosage': 2.0,\n",
       "  'dosage_type': '23'},\n",
       " {'medication_name': 'test 2',\n",
       "  'scheduled_time': datetime.time(20, 59, 54),\n",
       "  'taken_count': 0,\n",
       "  'reminder_total': 2,\n",
       "  'dosage': 2.0,\n",
       "  'dosage_type': '23'},\n",
       " {'medication_name': 'test',\n",
       "  'scheduled_time': datetime.time(6, 54, 38),\n",
       "  'taken_count': 0,\n",
       "  'reminder_total': 1,\n",
       "  'dosage': None,\n",
       "  'dosage_type': None}]"
      ]
     },
     "execution_count": 73,
     "metadata": {},
     "output_type": "execute_result"
    }
   ],
   "source": [
    "results"
   ]
  },
  {
   "cell_type": "code",
   "execution_count": null,
   "id": "0527172d-a73d-49b1-88d2-45bc004cf0b1",
   "metadata": {},
   "outputs": [],
   "source": []
  }
 ],
 "metadata": {
  "kernelspec": {
   "display_name": "Django Dev",
   "language": "python",
   "name": "django-dev"
  },
  "language_info": {
   "codemirror_mode": {
    "name": "ipython",
    "version": 3
   },
   "file_extension": ".py",
   "mimetype": "text/x-python",
   "name": "python",
   "nbconvert_exporter": "python",
   "pygments_lexer": "ipython3",
   "version": "3.12.5"
  }
 },
 "nbformat": 4,
 "nbformat_minor": 5
}
